{
 "cells": [
  {
   "cell_type": "markdown",
   "metadata": {
    "collapsed": false
   },
   "source": [
    "# Formatting Strings\n",
    "- Formatting with % operator\n",
    "- Formatting wth `.format()`\n",
    "- Formatting with f-strings\n"
   ]
  },
  {
   "cell_type": "markdown",
   "metadata": {
    "collapsed": false
   },
   "source": [
    "## Formatting with the % operator\n",
    "This is the oldest formatting method in python\n",
    "\n",
    "Use the string formatting operator `%s` as a placeholder for a string\n",
    "\n",
    "`%s` placeholders are used with the following syntax:\n",
    "\n",
    "For a single value: `print(\"string %s\" %'placeholder')`\n",
    "\n",
    "For multiple values: `print(\"string %s %s %s\" %('placeholder1', 'placeholer2', 'placeholdern'))`\n",
    "\n",
    "A string with `%s` as placeholder followed by `%` and a tuple of placeholder values"
   ]
  },
  {
   "cell_type": "code",
   "execution_count": 1,
   "metadata": {
    "collapsed": false
   },
   "outputs": [
    {
     "name": "stdout",
     "output_type": "stream",
     "text": [
      "Bird is the WORD\n"
     ]
    }
   ],
   "source": [
    "print(\"Bird is the %s\" %'WORD')"
   ]
  },
  {
   "cell_type": "code",
   "execution_count": 2,
   "metadata": {
    "collapsed": false
   },
   "outputs": [
    {
     "name": "stdout",
     "output_type": "stream",
     "text": [
      "In this SENTENCE multiple WORDS have been formatted using PLACEHOLDERS\n"
     ]
    }
   ],
   "source": [
    "print(\"In this %s multiple %s have been formatted using %s\" %('SENTENCE','WORDS','PLACEHOLDERS'))   # pass multiple items by placing inside a tuple"
   ]
  },
  {
   "cell_type": "code",
   "execution_count": 3,
   "metadata": {
    "collapsed": false
   },
   "outputs": [
    {
     "name": "stdout",
     "output_type": "stream",
     "text": [
      "You can also pass in VARIABLES\n"
     ]
    }
   ],
   "source": [
    "a = 'VARIABLES'\n",
    "print(\"You can also pass in %s\" %(a))"
   ]
  },
  {
   "cell_type": "markdown",
   "metadata": {
    "collapsed": false
   },
   "source": [
    "## Formatting with [`.format()`](https://docs.python.org/3/library/string.html#formatstrings)\n",
    "A better, more readable way to format is using the `.format()` method\n",
    "\n",
    "Curly braces are used as the placeholders and the string is follwed by `.format('placeholder1','placeholdern')`\n"
   ]
  },
  {
   "cell_type": "code",
   "execution_count": 4,
   "metadata": {
    "collapsed": false
   },
   "outputs": [
    {
     "name": "stdout",
     "output_type": "stream",
     "text": [
      "The first letter of the alphabet is A and the second is B\n"
     ]
    }
   ],
   "source": [
    "print(\"The first letter of the alphabet is {} and the second is {}\".format('A','B'))"
   ]
  },
  {
   "cell_type": "markdown",
   "metadata": {
    "collapsed": false
   },
   "source": [
    "You can insert objects by their index"
   ]
  },
  {
   "cell_type": "code",
   "execution_count": 5,
   "metadata": {
    "collapsed": false
   },
   "outputs": [
    {
     "name": "stdout",
     "output_type": "stream",
     "text": [
      "The first letter of the alphabet is A and the second is B\n"
     ]
    }
   ],
   "source": [
    "print(\"The first letter of the alphabet is {1} and the second is {0}\".format('B','A'))"
   ]
  },
  {
   "cell_type": "markdown",
   "metadata": {
    "collapsed": false
   },
   "source": [
    "You can also insert objects by assigning them to a variable"
   ]
  },
  {
   "cell_type": "code",
   "execution_count": 6,
   "metadata": {
    "collapsed": false
   },
   "outputs": [
    {
     "name": "stdout",
     "output_type": "stream",
     "text": [
      "The first letter of the alphabet is A and the second is B\n"
     ]
    }
   ],
   "source": [
    "print(\"The first letter of the alphabet is {a} and the second is {b}\".format(a='A',b='B'))"
   ]
  },
  {
   "cell_type": "markdown",
   "metadata": {
    "collapsed": false
   },
   "source": [
    "## Formatting with f-strings [(formatted string literals)](https://docs.python.org/3/reference/lexical_analysis.html#f-strings)\n",
    "f-strings are usually the fastest way to format a string\n",
    "\n",
    "The letter `f` is placed outside the string and curly braces are used as placeholders"
   ]
  },
  {
   "cell_type": "code",
   "execution_count": 7,
   "metadata": {
    "collapsed": false
   },
   "outputs": [
    {
     "name": "stdout",
     "output_type": "stream",
     "text": [
      "This sentence was formatted with a f-string\n"
     ]
    }
   ],
   "source": [
    "insert = 'f-string'\n",
    "print(f\"This sentence was formatted with a {insert}\")"
   ]
  },
  {
   "cell_type": "code",
   "execution_count": 8,
   "metadata": {
    "collapsed": false
   },
   "outputs": [
    {
     "name": "stdout",
     "output_type": "stream",
     "text": [
      "This sentence was formatted with a f-string using VARIABLES\n"
     ]
    }
   ],
   "source": [
    "print(f\"This sentence was formatted with a {insert} using {a}\")"
   ]
  }
 ],
 "metadata": {
  "kernelspec": {
   "display_name": "Python 3",
   "language": "python",
   "name": "python3"
  },
  "language_info": {
   "codemirror_mode": {
    "name": "ipython",
    "version": 2
   },
   "file_extension": ".py",
   "mimetype": "text/x-python",
   "name": "python",
   "nbconvert_exporter": "python",
   "pygments_lexer": "ipython2",
   "version": "2.7.6"
  }
 },
 "nbformat": 4,
 "nbformat_minor": 0
}
