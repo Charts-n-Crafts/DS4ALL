{
 "cells": [
  {
   "cell_type": "markdown",
   "metadata": {
    "collapsed": false
   },
   "source": [
    "# Python Statements\n",
    "\n",
    "Python uses statements to create [control flow](https://www.educative.io/answers/what-are-control-flow-statements-in-python), this allows certain code to be executed only when a particular condition has been met\n",
    "\n",
    "A human example would be: **if** i'm hungry (*condition*), then I will eat a sandwich (*action*)\n",
    "\n",
    "This is achieved using the keywords\n",
    "- `if`\n",
    "- `elif`\n",
    "- `else`\n",
    "\n",
    "Control flow syntax makes use of colons and [indendation](https://www.w3schools.com/python/gloss_python_indentation.asp#:~:text=Indentation%20refers%20to%20the%20spaces,indicate%20a%20block%20of%20code.) (whitespace)\n",
    "This indenation system is crucial to Python and is what sets it apart from other programming languages"
   ]
  },
  {
   "cell_type": "markdown",
   "metadata": {
    "collapsed": false
   },
   "source": [
    "Syntax of an `if` statement"
   ]
  },
  {
   "cell_type": "code",
   "execution_count": 1,
   "metadata": {
    "collapsed": false
   },
   "outputs": [
    {
     "data": {
      "text/plain": [
       "'\\nif some_condition:          <- notice the colon after the if statement\\n        execute some code   <- notice the indentation here\\n'"
      ]
     },
     "execution_count": 1,
     "metadata": {},
     "output_type": "execute_result"
    }
   ],
   "source": [
    "'''\n",
    "if some_condition:          <- notice the colon after the if statement\n",
    "        execute some code   <- notice the indentation here\n",
    "'''"
   ]
  },
  {
   "cell_type": "code",
   "execution_count": 2,
   "metadata": {
    "collapsed": false
   },
   "outputs": [],
   "source": [
    "if 1 > 2:\n",
    "    print('One is greater than two')   # this won't execute as the condition has not been met"
   ]
  },
  {
   "cell_type": "code",
   "execution_count": 3,
   "metadata": {
    "collapsed": false
   },
   "outputs": [
    {
     "name": "stdout",
     "output_type": "stream",
     "text": [
      "One is less than two\n"
     ]
    }
   ],
   "source": [
    "if 1 < 2:\n",
    "    print('One is less than two')"
   ]
  },
  {
   "cell_type": "markdown",
   "metadata": {
    "collapsed": false
   },
   "source": [
    "Syntax of an `if/else` statement"
   ]
  },
  {
   "cell_type": "code",
   "execution_count": 4,
   "metadata": {
    "collapsed": false
   },
   "outputs": [
    {
     "data": {
      "text/plain": [
       "'\\nif some_condition:\\n        execute some code\\nelse:\\n        do something else\\n'"
      ]
     },
     "execution_count": 4,
     "metadata": {},
     "output_type": "execute_result"
    }
   ],
   "source": [
    "'''\n",
    "if some_condition:\n",
    "        execute some code\n",
    "else:\n",
    "        do something else\n",
    "'''"
   ]
  },
  {
   "cell_type": "code",
   "execution_count": 5,
   "metadata": {
    "collapsed": false
   },
   "outputs": [
    {
     "name": "stdout",
     "output_type": "stream",
     "text": [
      "One is not greater than two\n"
     ]
    }
   ],
   "source": [
    "if 1 > 2:\n",
    "    print('One is greater than two')\n",
    "else:\n",
    "    print('One is not greater than two')"
   ]
  },
  {
   "cell_type": "markdown",
   "metadata": {
    "collapsed": false
   },
   "source": [
    "Syntax of an if/elif/else statement"
   ]
  },
  {
   "cell_type": "code",
   "execution_count": 6,
   "metadata": {
    "collapsed": false
   },
   "outputs": [
    {
     "data": {
      "text/plain": [
       "'\\nif some_condition:\\n        execute some code\\nelif some_other_condition:\\n        do something different\\nelse:\\n        do something else\\n'"
      ]
     },
     "execution_count": 6,
     "metadata": {},
     "output_type": "execute_result"
    }
   ],
   "source": [
    "'''\n",
    "if some_condition:\n",
    "        execute some code\n",
    "elif some_other_condition:\n",
    "        do something different\n",
    "else:\n",
    "        do something else\n",
    "'''"
   ]
  },
  {
   "cell_type": "code",
   "execution_count": 7,
   "metadata": {
    "collapsed": false
   },
   "outputs": [
    {
     "name": "stdout",
     "output_type": "stream",
     "text": [
      "I'm learning to program in Python\n"
     ]
    }
   ],
   "source": [
    "lang = 'Python'\n",
    "\n",
    "if lang == 'C':\n",
    "    print(\"I'm learning to program in C\")\n",
    "elif lang == 'Python':\n",
    "    print(\"I'm learning to program in Python\")\n",
    "else:\n",
    "    print (\"I'm learning some other language\")"
   ]
  }
 ],
 "metadata": {
  "kernelspec": {
   "display_name": "Python 3",
   "language": "python",
   "name": "python3"
  },
  "language_info": {
   "codemirror_mode": {
    "name": "ipython",
    "version": 2
   },
   "file_extension": ".py",
   "mimetype": "text/x-python",
   "name": "python",
   "nbconvert_exporter": "python",
   "pygments_lexer": "ipython2",
   "version": "2.7.6"
  }
 },
 "nbformat": 4,
 "nbformat_minor": 0
}
