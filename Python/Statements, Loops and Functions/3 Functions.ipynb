{
 "cells": [
  {
   "cell_type": "markdown",
   "source": [
    "# Functions\n",
    "\n",
    "In these notebooks you will have already seen a variety of functions such as `print(), type(), len()` etc that allow us to quickly repeat common tasks\n",
    "\n",
    "Functions allow us to reuse blocks of code without needing to rewrite them\n",
    "\n",
    "- General syntax of a function\n",
    "- `def` statements\n",
    "- Docstrings\n",
    "- Indentation\n",
    "- Calling a function\n",
    "- Parameters/Arguments\n",
    "- `return` statement"
   ],
   "metadata": {
    "collapsed": false
   }
  },
  {
   "cell_type": "markdown",
   "source": [
    "## General Syntax of a function"
   ],
   "metadata": {
    "collapsed": false
   }
  },
  {
   "cell_type": "code",
   "execution_count": null,
   "outputs": [],
   "source": [
    "def example_function(param1,param2,etc):\n",
    "    '''\n",
    "    Docstring explaining function\n",
    "    '''\n",
    "    # This is where the code goes\n",
    "    return # some variable you want to use"
   ],
   "metadata": {
    "collapsed": false
   }
  },
  {
   "cell_type": "markdown",
   "source": [
    "## Defining a function with the `def` keyword"
   ],
   "metadata": {
    "collapsed": false
   }
  },
  {
   "cell_type": "code",
   "execution_count": 18,
   "outputs": [
    {
     "ename": "SyntaxError",
     "evalue": "incomplete input (98844823.py, line 1)",
     "output_type": "error",
     "traceback": [
      "\u001B[0;36m  Input \u001B[0;32mIn [18]\u001B[0;36m\u001B[0m\n\u001B[0;31m    def my_function_name():\u001B[0m\n\u001B[0m                           ^\u001B[0m\n\u001B[0;31mSyntaxError\u001B[0m\u001B[0;31m:\u001B[0m incomplete input\n"
     ]
    }
   ],
   "source": [
    "def my_function_name():"
   ],
   "metadata": {
    "collapsed": false
   }
  },
  {
   "cell_type": "markdown",
   "source": [
    "Snake casing, lowercase letters with underscores between words\n",
    "\n",
    "Parenthesis at the end of the function name which can be used to pass in arguments/parameters\n",
    "\n",
    "Colon indicating an upcoming indented block where, everything indented is within the function"
   ],
   "metadata": {
    "collapsed": false
   }
  },
  {
   "cell_type": "markdown",
   "source": [
    "## Optional: Document String (docstring) to describe function\n",
    "\n",
    "These are not necessary for simple functions you use for yourself, how it's best practice to include them in your code so other people (esp. your future self) can understand it"
   ],
   "metadata": {
    "collapsed": false
   }
  },
  {
   "cell_type": "code",
   "execution_count": null,
   "outputs": [],
   "source": [
    "def my_function_name():\n",
    "    '''\n",
    "    A docstring explaining the function.\n",
    "    '''"
   ],
   "metadata": {
    "collapsed": false
   }
  },
  {
   "cell_type": "markdown",
   "source": [
    "## Indentation\n",
    "\n",
    "Notice how everything following the colon is indented\n",
    "\n",
    "This example function will print out a string"
   ],
   "metadata": {
    "collapsed": false
   }
  },
  {
   "cell_type": "code",
   "execution_count": 4,
   "outputs": [],
   "source": [
    "def my_function_name():\n",
    "    '''\n",
    "    A function that prints a string.\n",
    "    '''\n",
    "    print('This is the output of my function')"
   ],
   "metadata": {
    "collapsed": false
   }
  },
  {
   "cell_type": "markdown",
   "source": [
    "## Calling a function"
   ],
   "metadata": {
    "collapsed": false
   }
  },
  {
   "cell_type": "code",
   "execution_count": 5,
   "outputs": [
    {
     "name": "stdout",
     "output_type": "stream",
     "text": [
      "This is the output of my function\n"
     ]
    }
   ],
   "source": [
    "my_function_name()"
   ],
   "metadata": {
    "collapsed": false
   }
  },
  {
   "cell_type": "markdown",
   "source": [
    "## Parameters/Arguments passed by the user"
   ],
   "metadata": {
    "collapsed": false
   }
  },
  {
   "cell_type": "code",
   "execution_count": 11,
   "outputs": [],
   "source": [
    "def my_function_name(name):\n",
    "    '''\n",
    "    A function that given a name prints it within a string.\n",
    "    '''\n",
    "    print(f\"This is the output of {name}'s function\")"
   ],
   "metadata": {
    "collapsed": false
   }
  },
  {
   "cell_type": "code",
   "execution_count": 13,
   "outputs": [
    {
     "name": "stdout",
     "output_type": "stream",
     "text": [
      "This is the output of Arthur's function\n"
     ]
    }
   ],
   "source": [
    "my_function_name('Arthur')"
   ],
   "metadata": {
    "collapsed": false
   }
  },
  {
   "cell_type": "markdown",
   "source": [
    "## The `return` statement\n",
    "\n",
    "This keyword is used to send the result of the function back, allowing us to assign the function's output to a new variable"
   ],
   "metadata": {
    "collapsed": false
   }
  },
  {
   "cell_type": "code",
   "execution_count": 15,
   "outputs": [],
   "source": [
    "def multiply(a,b):\n",
    "    return a*b"
   ],
   "metadata": {
    "collapsed": false
   }
  },
  {
   "cell_type": "code",
   "execution_count": 16,
   "outputs": [],
   "source": [
    "returned_result = multiply(2,4)"
   ],
   "metadata": {
    "collapsed": false
   }
  },
  {
   "cell_type": "code",
   "execution_count": 17,
   "outputs": [
    {
     "name": "stdout",
     "output_type": "stream",
     "text": [
      "8\n"
     ]
    }
   ],
   "source": [
    "print(returned_result)"
   ],
   "metadata": {
    "collapsed": false
   }
  }
 ],
 "metadata": {
  "kernelspec": {
   "display_name": "Python 3",
   "language": "python",
   "name": "python3"
  },
  "language_info": {
   "codemirror_mode": {
    "name": "ipython",
    "version": 2
   },
   "file_extension": ".py",
   "mimetype": "text/x-python",
   "name": "python",
   "nbconvert_exporter": "python",
   "pygments_lexer": "ipython2",
   "version": "2.7.6"
  }
 },
 "nbformat": 4,
 "nbformat_minor": 0
}
