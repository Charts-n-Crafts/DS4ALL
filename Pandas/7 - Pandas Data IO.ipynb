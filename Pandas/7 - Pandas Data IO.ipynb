{
 "cells": [
  {
   "cell_type": "markdown",
   "source": [
    "# Data [Input/Output](https://pandas.pydata.org/docs/reference/io.html)\n",
    "By far the most important thing to learn and the first thing you will need to do when working with data is reading in data for analysis and saving your outputs\n",
    "- CSV\n",
    "- Excel\n",
    "- HTML"
   ],
   "metadata": {
    "collapsed": false
   }
  },
  {
   "cell_type": "code",
   "execution_count": 1,
   "outputs": [],
   "source": [
    "import numpy as np\n",
    "import pandas as pd"
   ],
   "metadata": {
    "collapsed": false
   }
  },
  {
   "cell_type": "markdown",
   "source": [
    "To open a file you will need to make sure it's either in the same directory as the notebook you are working from or provide a filepath\n",
    "In order to check the location of your jupyter notebook type 'pwd' into a code cell and hit Shit+Enter"
   ],
   "metadata": {
    "collapsed": false
   }
  },
  {
   "cell_type": "code",
   "execution_count": null,
   "outputs": [],
   "source": [
    "pwd # run this cell"
   ],
   "metadata": {
    "collapsed": false,
    "pycharm": {
     "is_executing": true
    }
   }
  },
  {
   "cell_type": "markdown",
   "source": [
    "## Open CSV files with [pd.read_csv()](https://pandas.pydata.org/docs/reference/api/pandas.read_csv.html)"
   ],
   "metadata": {
    "collapsed": false
   }
  },
  {
   "cell_type": "code",
   "execution_count": 2,
   "outputs": [
    {
     "data": {
      "text/plain": "    a   b   c   d\n0   0   1   2   3\n1   4   5   6   7\n2   8   9  10  11\n3  12  13  14  15",
      "text/html": "<div>\n<style scoped>\n    .dataframe tbody tr th:only-of-type {\n        vertical-align: middle;\n    }\n\n    .dataframe tbody tr th {\n        vertical-align: top;\n    }\n\n    .dataframe thead th {\n        text-align: right;\n    }\n</style>\n<table border=\"1\" class=\"dataframe\">\n  <thead>\n    <tr style=\"text-align: right;\">\n      <th></th>\n      <th>a</th>\n      <th>b</th>\n      <th>c</th>\n      <th>d</th>\n    </tr>\n  </thead>\n  <tbody>\n    <tr>\n      <th>0</th>\n      <td>0</td>\n      <td>1</td>\n      <td>2</td>\n      <td>3</td>\n    </tr>\n    <tr>\n      <th>1</th>\n      <td>4</td>\n      <td>5</td>\n      <td>6</td>\n      <td>7</td>\n    </tr>\n    <tr>\n      <th>2</th>\n      <td>8</td>\n      <td>9</td>\n      <td>10</td>\n      <td>11</td>\n    </tr>\n    <tr>\n      <th>3</th>\n      <td>12</td>\n      <td>13</td>\n      <td>14</td>\n      <td>15</td>\n    </tr>\n  </tbody>\n</table>\n</div>"
     },
     "execution_count": 2,
     "metadata": {},
     "output_type": "execute_result"
    }
   ],
   "source": [
    "pd.read_csv('example.csv')"
   ],
   "metadata": {
    "collapsed": false
   }
  },
  {
   "cell_type": "code",
   "execution_count": 3,
   "outputs": [],
   "source": [
    "df = pd.read_csv('example.csv')"
   ],
   "metadata": {
    "collapsed": false
   }
  },
  {
   "cell_type": "markdown",
   "source": [
    "## Save DataFrame to CSV file with [.to_csv()](https://pandas.pydata.org/docs/reference/api/pandas.DataFrame.to_csv.html)"
   ],
   "metadata": {
    "collapsed": false
   }
  },
  {
   "cell_type": "code",
   "execution_count": 4,
   "outputs": [],
   "source": [
    "df.to_csv('My_output.csv', index=False) # Set index=False if you do not want the index saved as a column"
   ],
   "metadata": {
    "collapsed": false
   }
  },
  {
   "cell_type": "markdown",
   "source": [
    "## Open Excel files with [pd.read_excel()](https://pandas.pydata.org/docs/reference/api/pandas.read_excel.html)\n",
    "Can't import formulas, images and macros (may cause pandas to crash): Only data"
   ],
   "metadata": {
    "collapsed": false
   }
  },
  {
   "cell_type": "markdown",
   "source": [
    "You may need to install [openpyxl](https://openpyxl.readthedocs.io/en/stable/) as a dependency in your terminal or anaconda prompt:\n",
    "\n",
    "    conda install openpyxl\n",
    "\n",
    "\n",
    "Then restart you notebook.\n",
    "(or use pip install if you aren't using the Anaconda Distribution)"
   ],
   "metadata": {
    "collapsed": false
   }
  },
  {
   "cell_type": "code",
   "execution_count": 5,
   "outputs": [
    {
     "data": {
      "text/plain": "   Unnamed: 0   a   b   c   d\n0           0   0   1   2   3\n1           1   4   5   6   7\n2           2   8   9  10  11\n3           3  12  13  14  15",
      "text/html": "<div>\n<style scoped>\n    .dataframe tbody tr th:only-of-type {\n        vertical-align: middle;\n    }\n\n    .dataframe tbody tr th {\n        vertical-align: top;\n    }\n\n    .dataframe thead th {\n        text-align: right;\n    }\n</style>\n<table border=\"1\" class=\"dataframe\">\n  <thead>\n    <tr style=\"text-align: right;\">\n      <th></th>\n      <th>Unnamed: 0</th>\n      <th>a</th>\n      <th>b</th>\n      <th>c</th>\n      <th>d</th>\n    </tr>\n  </thead>\n  <tbody>\n    <tr>\n      <th>0</th>\n      <td>0</td>\n      <td>0</td>\n      <td>1</td>\n      <td>2</td>\n      <td>3</td>\n    </tr>\n    <tr>\n      <th>1</th>\n      <td>1</td>\n      <td>4</td>\n      <td>5</td>\n      <td>6</td>\n      <td>7</td>\n    </tr>\n    <tr>\n      <th>2</th>\n      <td>2</td>\n      <td>8</td>\n      <td>9</td>\n      <td>10</td>\n      <td>11</td>\n    </tr>\n    <tr>\n      <th>3</th>\n      <td>3</td>\n      <td>12</td>\n      <td>13</td>\n      <td>14</td>\n      <td>15</td>\n    </tr>\n  </tbody>\n</table>\n</div>"
     },
     "execution_count": 5,
     "metadata": {},
     "output_type": "execute_result"
    }
   ],
   "source": [
    "pd.read_excel('Excel_Example.xlsx')"
   ],
   "metadata": {
    "collapsed": false
   }
  },
  {
   "cell_type": "markdown",
   "source": [
    "## Save DataFrame to Excel file with [.to_excel()](https://pandas.pydata.org/docs/reference/api/pandas.DataFrame.to_excel.html)"
   ],
   "metadata": {
    "collapsed": false
   }
  },
  {
   "cell_type": "code",
   "execution_count": 6,
   "outputs": [],
   "source": [
    "df.to_excel('Excel_Save.xlsx')"
   ],
   "metadata": {
    "collapsed": false
   }
  },
  {
   "cell_type": "markdown",
   "source": [
    "## Read HTML tables with [pd.read_html()](https://pandas.pydata.org/docs/reference/api/pandas.read_html.html)\n",
    "\n",
    "You may need to install [htmllib5](https://pypi.org/project/html5lib/), [lxml](https://lxml.de/) and [BeautifulSoup4](https://pypi.org/project/beautifulsoup4/). In your terminal/command prompt run:\n",
    "\n",
    "    conda install lxml\n",
    "    conda install html5lib\n",
    "    conda install BeautifulSoup4\n",
    "\n",
    "Then restart Jupyter Notebook.\n",
    "(or use pip install if you aren't using the Anaconda Distribution)\n",
    "\n",
    "Pandas can read table tabs off of html. For example:"
   ],
   "metadata": {
    "collapsed": false
   }
  },
  {
   "cell_type": "code",
   "execution_count": 7,
   "outputs": [],
   "source": [
    "html_data = pd.read_html(\"https://www.fdic.gov/resources/resolutions/bank-failures/failed-bank-list\")"
   ],
   "metadata": {
    "collapsed": false
   }
  },
  {
   "cell_type": "code",
   "execution_count": 8,
   "outputs": [
    {
     "data": {
      "text/plain": "                         Bank NameBank           CityCity StateSt  CertCert  \\\n0                    Almena State Bank             Almena      KS     15426   \n1           First City Bank of Florida  Fort Walton Beach      FL     16748   \n2                 The First State Bank      Barboursville      WV     14361   \n3                   Ericson State Bank            Ericson      NE     18265   \n4     City National Bank of New Jersey             Newark      NJ     21111   \n..                                 ...                ...     ...       ...   \n558                 Superior Bank, FSB           Hinsdale      IL     32646   \n559                Malta National Bank              Malta      OH      6629   \n560    First Alliance Bank & Trust Co.         Manchester      NH     34264   \n561  National State Bank of Metropolis         Metropolis      IL      3815   \n562                   Bank of Honolulu           Honolulu      HI     21029   \n\n                 Acquiring InstitutionAI Closing DateClosing  FundFund  \n0                            Equity Bank    October 23, 2020     10538  \n1              United Fidelity Bank, fsb    October 16, 2020     10537  \n2                         MVB Bank, Inc.       April 3, 2020     10536  \n3             Farmers and Merchants Bank   February 14, 2020     10535  \n4                        Industrial Bank    November 1, 2019     10534  \n..                                   ...                 ...       ...  \n558                Superior Federal, FSB       July 27, 2001      6004  \n559                    North Valley Bank         May 3, 2001      4648  \n560  Southern New Hampshire Bank & Trust    February 2, 2001      4647  \n561              Banterra Bank of Marion   December 14, 2000      4646  \n562                   Bank of the Orient    October 13, 2000      4645  \n\n[563 rows x 7 columns]",
      "text/html": "<div>\n<style scoped>\n    .dataframe tbody tr th:only-of-type {\n        vertical-align: middle;\n    }\n\n    .dataframe tbody tr th {\n        vertical-align: top;\n    }\n\n    .dataframe thead th {\n        text-align: right;\n    }\n</style>\n<table border=\"1\" class=\"dataframe\">\n  <thead>\n    <tr style=\"text-align: right;\">\n      <th></th>\n      <th>Bank NameBank</th>\n      <th>CityCity</th>\n      <th>StateSt</th>\n      <th>CertCert</th>\n      <th>Acquiring InstitutionAI</th>\n      <th>Closing DateClosing</th>\n      <th>FundFund</th>\n    </tr>\n  </thead>\n  <tbody>\n    <tr>\n      <th>0</th>\n      <td>Almena State Bank</td>\n      <td>Almena</td>\n      <td>KS</td>\n      <td>15426</td>\n      <td>Equity Bank</td>\n      <td>October 23, 2020</td>\n      <td>10538</td>\n    </tr>\n    <tr>\n      <th>1</th>\n      <td>First City Bank of Florida</td>\n      <td>Fort Walton Beach</td>\n      <td>FL</td>\n      <td>16748</td>\n      <td>United Fidelity Bank, fsb</td>\n      <td>October 16, 2020</td>\n      <td>10537</td>\n    </tr>\n    <tr>\n      <th>2</th>\n      <td>The First State Bank</td>\n      <td>Barboursville</td>\n      <td>WV</td>\n      <td>14361</td>\n      <td>MVB Bank, Inc.</td>\n      <td>April 3, 2020</td>\n      <td>10536</td>\n    </tr>\n    <tr>\n      <th>3</th>\n      <td>Ericson State Bank</td>\n      <td>Ericson</td>\n      <td>NE</td>\n      <td>18265</td>\n      <td>Farmers and Merchants Bank</td>\n      <td>February 14, 2020</td>\n      <td>10535</td>\n    </tr>\n    <tr>\n      <th>4</th>\n      <td>City National Bank of New Jersey</td>\n      <td>Newark</td>\n      <td>NJ</td>\n      <td>21111</td>\n      <td>Industrial Bank</td>\n      <td>November 1, 2019</td>\n      <td>10534</td>\n    </tr>\n    <tr>\n      <th>...</th>\n      <td>...</td>\n      <td>...</td>\n      <td>...</td>\n      <td>...</td>\n      <td>...</td>\n      <td>...</td>\n      <td>...</td>\n    </tr>\n    <tr>\n      <th>558</th>\n      <td>Superior Bank, FSB</td>\n      <td>Hinsdale</td>\n      <td>IL</td>\n      <td>32646</td>\n      <td>Superior Federal, FSB</td>\n      <td>July 27, 2001</td>\n      <td>6004</td>\n    </tr>\n    <tr>\n      <th>559</th>\n      <td>Malta National Bank</td>\n      <td>Malta</td>\n      <td>OH</td>\n      <td>6629</td>\n      <td>North Valley Bank</td>\n      <td>May 3, 2001</td>\n      <td>4648</td>\n    </tr>\n    <tr>\n      <th>560</th>\n      <td>First Alliance Bank &amp; Trust Co.</td>\n      <td>Manchester</td>\n      <td>NH</td>\n      <td>34264</td>\n      <td>Southern New Hampshire Bank &amp; Trust</td>\n      <td>February 2, 2001</td>\n      <td>4647</td>\n    </tr>\n    <tr>\n      <th>561</th>\n      <td>National State Bank of Metropolis</td>\n      <td>Metropolis</td>\n      <td>IL</td>\n      <td>3815</td>\n      <td>Banterra Bank of Marion</td>\n      <td>December 14, 2000</td>\n      <td>4646</td>\n    </tr>\n    <tr>\n      <th>562</th>\n      <td>Bank of Honolulu</td>\n      <td>Honolulu</td>\n      <td>HI</td>\n      <td>21029</td>\n      <td>Bank of the Orient</td>\n      <td>October 13, 2000</td>\n      <td>4645</td>\n    </tr>\n  </tbody>\n</table>\n<p>563 rows × 7 columns</p>\n</div>"
     },
     "execution_count": 8,
     "metadata": {},
     "output_type": "execute_result"
    }
   ],
   "source": [
    "html_data[0] #stored as a list"
   ],
   "metadata": {
    "collapsed": false
   }
  }
 ],
 "metadata": {
  "kernelspec": {
   "display_name": "Python 3",
   "language": "python",
   "name": "python3"
  },
  "language_info": {
   "codemirror_mode": {
    "name": "ipython",
    "version": 2
   },
   "file_extension": ".py",
   "mimetype": "text/x-python",
   "name": "python",
   "nbconvert_exporter": "python",
   "pygments_lexer": "ipython2",
   "version": "2.7.6"
  }
 },
 "nbformat": 4,
 "nbformat_minor": 0
}
