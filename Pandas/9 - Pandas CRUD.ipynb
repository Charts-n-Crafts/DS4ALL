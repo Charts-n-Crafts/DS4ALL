{
 "cells": [
  {
   "cell_type": "markdown",
   "source": [
    "# Create Read Update Delete"
   ],
   "metadata": {
    "collapsed": false
   }
  },
  {
   "cell_type": "code",
   "execution_count": 1,
   "metadata": {
    "collapsed": true
   },
   "outputs": [],
   "source": [
    "import pandas as pd"
   ]
  },
  {
   "cell_type": "markdown",
   "source": [
    "## 1. Create"
   ],
   "metadata": {
    "collapsed": false
   }
  },
  {
   "cell_type": "markdown",
   "source": [
    "### 1.1 Create a DataFrame from a CSV file"
   ],
   "metadata": {
    "collapsed": false
   }
  },
  {
   "cell_type": "code",
   "execution_count": 2,
   "outputs": [],
   "source": [
    "df = pd.read_csv('Top 50.csv', encoding= 'unicode_escape')"
   ],
   "metadata": {
    "collapsed": false
   }
  },
  {
   "cell_type": "markdown",
   "source": [
    "### 1.2 Create a DataFrame from a Dictionary"
   ],
   "metadata": {
    "collapsed": false
   }
  },
  {
   "cell_type": "code",
   "execution_count": 3,
   "outputs": [],
   "source": [
    "my_dict = {'col1':[1,2,3], 'col2':[4,5,6], 'col3':[7,8,9]}"
   ],
   "metadata": {
    "collapsed": false
   }
  },
  {
   "cell_type": "code",
   "execution_count": 4,
   "outputs": [],
   "source": [
    "dict_df = pd.DataFrame(my_dict)"
   ],
   "metadata": {
    "collapsed": false
   }
  },
  {
   "cell_type": "markdown",
   "source": [
    "## 2. Read"
   ],
   "metadata": {
    "collapsed": false
   }
  },
  {
   "cell_type": "markdown",
   "source": [
    "### 2.1 Show top 5 and bottom 5 rows of data"
   ],
   "metadata": {
    "collapsed": false
   }
  },
  {
   "cell_type": "code",
   "execution_count": 5,
   "outputs": [
    {
     "data": {
      "text/plain": "   Rank Account username       Account Name  Followers (millions)  \\\n0     1     @BarackObama       Barack Obama                 132.0   \n1     2    @justinbieber      Justin Bieber                 114.2   \n2     3       @katyperry         Katy Perry                 108.8   \n3     4         @rihanna            Rihanna                 106.7   \n4     5       @Cristiano  Cristiano Ronaldo                 100.6   \n\n                                       Occupation         Country  \n0  44th President of the United States of America   United States  \n1                                        Musician          Canada  \n2                                        Musician   United States  \n3                                        Musician        Barbados  \n4                                 Football player        Portugal  ",
      "text/html": "<div>\n<style scoped>\n    .dataframe tbody tr th:only-of-type {\n        vertical-align: middle;\n    }\n\n    .dataframe tbody tr th {\n        vertical-align: top;\n    }\n\n    .dataframe thead th {\n        text-align: right;\n    }\n</style>\n<table border=\"1\" class=\"dataframe\">\n  <thead>\n    <tr style=\"text-align: right;\">\n      <th></th>\n      <th>Rank</th>\n      <th>Account username</th>\n      <th>Account Name</th>\n      <th>Followers (millions)</th>\n      <th>Occupation</th>\n      <th>Country</th>\n    </tr>\n  </thead>\n  <tbody>\n    <tr>\n      <th>0</th>\n      <td>1</td>\n      <td>@BarackObama</td>\n      <td>Barack Obama</td>\n      <td>132.0</td>\n      <td>44th President of the United States of America</td>\n      <td>United States</td>\n    </tr>\n    <tr>\n      <th>1</th>\n      <td>2</td>\n      <td>@justinbieber</td>\n      <td>Justin Bieber</td>\n      <td>114.2</td>\n      <td>Musician</td>\n      <td>Canada</td>\n    </tr>\n    <tr>\n      <th>2</th>\n      <td>3</td>\n      <td>@katyperry</td>\n      <td>Katy Perry</td>\n      <td>108.8</td>\n      <td>Musician</td>\n      <td>United States</td>\n    </tr>\n    <tr>\n      <th>3</th>\n      <td>4</td>\n      <td>@rihanna</td>\n      <td>Rihanna</td>\n      <td>106.7</td>\n      <td>Musician</td>\n      <td>Barbados</td>\n    </tr>\n    <tr>\n      <th>4</th>\n      <td>5</td>\n      <td>@Cristiano</td>\n      <td>Cristiano Ronaldo</td>\n      <td>100.6</td>\n      <td>Football player</td>\n      <td>Portugal</td>\n    </tr>\n  </tbody>\n</table>\n</div>"
     },
     "execution_count": 5,
     "metadata": {},
     "output_type": "execute_result"
    }
   ],
   "source": [
    "df.head()"
   ],
   "metadata": {
    "collapsed": false
   }
  },
  {
   "cell_type": "code",
   "execution_count": 6,
   "outputs": [
    {
     "data": {
      "text/plain": "    Rank Account username  Account Name  Followers (millions)  \\\n45    46    @sportscenter  SportsCenter                  40.0   \n46    47     @KylieJenner  Kylie Jenner                  39.9   \n47    48           @drake         Drake                  39.5   \n48    49      @bts_bighit           BTS                  39.2   \n49    50    @Harry_Styles  Harry Styles                  37.7   \n\n                Occupation          Country  \n45          Sports channel    United States  \n46  Television personality    United States  \n47                  Rapper           Canada  \n48         Musicians/K-pop      South Korea  \n49                Musician   United Kingdom  ",
      "text/html": "<div>\n<style scoped>\n    .dataframe tbody tr th:only-of-type {\n        vertical-align: middle;\n    }\n\n    .dataframe tbody tr th {\n        vertical-align: top;\n    }\n\n    .dataframe thead th {\n        text-align: right;\n    }\n</style>\n<table border=\"1\" class=\"dataframe\">\n  <thead>\n    <tr style=\"text-align: right;\">\n      <th></th>\n      <th>Rank</th>\n      <th>Account username</th>\n      <th>Account Name</th>\n      <th>Followers (millions)</th>\n      <th>Occupation</th>\n      <th>Country</th>\n    </tr>\n  </thead>\n  <tbody>\n    <tr>\n      <th>45</th>\n      <td>46</td>\n      <td>@sportscenter</td>\n      <td>SportsCenter</td>\n      <td>40.0</td>\n      <td>Sports channel</td>\n      <td>United States</td>\n    </tr>\n    <tr>\n      <th>46</th>\n      <td>47</td>\n      <td>@KylieJenner</td>\n      <td>Kylie Jenner</td>\n      <td>39.9</td>\n      <td>Television personality</td>\n      <td>United States</td>\n    </tr>\n    <tr>\n      <th>47</th>\n      <td>48</td>\n      <td>@drake</td>\n      <td>Drake</td>\n      <td>39.5</td>\n      <td>Rapper</td>\n      <td>Canada</td>\n    </tr>\n    <tr>\n      <th>48</th>\n      <td>49</td>\n      <td>@bts_bighit</td>\n      <td>BTS</td>\n      <td>39.2</td>\n      <td>Musicians/K-pop</td>\n      <td>South Korea</td>\n    </tr>\n    <tr>\n      <th>49</th>\n      <td>50</td>\n      <td>@Harry_Styles</td>\n      <td>Harry Styles</td>\n      <td>37.7</td>\n      <td>Musician</td>\n      <td>United Kingdom</td>\n    </tr>\n  </tbody>\n</table>\n</div>"
     },
     "execution_count": 6,
     "metadata": {},
     "output_type": "execute_result"
    }
   ],
   "source": [
    "df.tail()"
   ],
   "metadata": {
    "collapsed": false
   }
  },
  {
   "cell_type": "markdown",
   "source": [
    "### 2.2 Show Columns and Data Type"
   ],
   "metadata": {
    "collapsed": false
   }
  },
  {
   "cell_type": "code",
   "execution_count": 7,
   "outputs": [
    {
     "data": {
      "text/plain": "Index(['Rank', 'Account username', 'Account Name', 'Followers (millions)',\n       'Occupation', 'Country'],\n      dtype='object')"
     },
     "execution_count": 7,
     "metadata": {},
     "output_type": "execute_result"
    }
   ],
   "source": [
    "df.columns"
   ],
   "metadata": {
    "collapsed": false
   }
  },
  {
   "cell_type": "code",
   "execution_count": 8,
   "outputs": [
    {
     "data": {
      "text/plain": "Rank                      int64\nAccount username         object\nAccount Name             object\nFollowers (millions)    float64\nOccupation               object\nCountry                  object\ndtype: object"
     },
     "execution_count": 8,
     "metadata": {},
     "output_type": "execute_result"
    }
   ],
   "source": [
    "df.dtypes"
   ],
   "metadata": {
    "collapsed": false
   }
  },
  {
   "cell_type": "markdown",
   "source": [
    "### 2.3 Summary Statistics"
   ],
   "metadata": {
    "collapsed": false
   }
  },
  {
   "cell_type": "code",
   "execution_count": 9,
   "outputs": [
    {
     "data": {
      "text/plain": "           Rank  Followers (millions)\ncount  50.00000             50.000000\nmean   25.50000             61.348000\nstd    14.57738             23.214837\nmin     1.00000             37.700000\n25%    13.25000             43.425000\n50%    25.50000             52.900000\n75%    37.75000             74.525000\nmax    50.00000            132.000000",
      "text/html": "<div>\n<style scoped>\n    .dataframe tbody tr th:only-of-type {\n        vertical-align: middle;\n    }\n\n    .dataframe tbody tr th {\n        vertical-align: top;\n    }\n\n    .dataframe thead th {\n        text-align: right;\n    }\n</style>\n<table border=\"1\" class=\"dataframe\">\n  <thead>\n    <tr style=\"text-align: right;\">\n      <th></th>\n      <th>Rank</th>\n      <th>Followers (millions)</th>\n    </tr>\n  </thead>\n  <tbody>\n    <tr>\n      <th>count</th>\n      <td>50.00000</td>\n      <td>50.000000</td>\n    </tr>\n    <tr>\n      <th>mean</th>\n      <td>25.50000</td>\n      <td>61.348000</td>\n    </tr>\n    <tr>\n      <th>std</th>\n      <td>14.57738</td>\n      <td>23.214837</td>\n    </tr>\n    <tr>\n      <th>min</th>\n      <td>1.00000</td>\n      <td>37.700000</td>\n    </tr>\n    <tr>\n      <th>25%</th>\n      <td>13.25000</td>\n      <td>43.425000</td>\n    </tr>\n    <tr>\n      <th>50%</th>\n      <td>25.50000</td>\n      <td>52.900000</td>\n    </tr>\n    <tr>\n      <th>75%</th>\n      <td>37.75000</td>\n      <td>74.525000</td>\n    </tr>\n    <tr>\n      <th>max</th>\n      <td>50.00000</td>\n      <td>132.000000</td>\n    </tr>\n  </tbody>\n</table>\n</div>"
     },
     "execution_count": 9,
     "metadata": {},
     "output_type": "execute_result"
    }
   ],
   "source": [
    "df.describe()"
   ],
   "metadata": {
    "collapsed": false
   }
  },
  {
   "cell_type": "code",
   "execution_count": 10,
   "outputs": [
    {
     "data": {
      "text/plain": "       Account username Account Name Occupation         Country\ncount                50           50         50              50\nunique               50           49         25              12\ntop        @BarackObama          BTS   Musician   United States\nfreq                  1            2          9              29",
      "text/html": "<div>\n<style scoped>\n    .dataframe tbody tr th:only-of-type {\n        vertical-align: middle;\n    }\n\n    .dataframe tbody tr th {\n        vertical-align: top;\n    }\n\n    .dataframe thead th {\n        text-align: right;\n    }\n</style>\n<table border=\"1\" class=\"dataframe\">\n  <thead>\n    <tr style=\"text-align: right;\">\n      <th></th>\n      <th>Account username</th>\n      <th>Account Name</th>\n      <th>Occupation</th>\n      <th>Country</th>\n    </tr>\n  </thead>\n  <tbody>\n    <tr>\n      <th>count</th>\n      <td>50</td>\n      <td>50</td>\n      <td>50</td>\n      <td>50</td>\n    </tr>\n    <tr>\n      <th>unique</th>\n      <td>50</td>\n      <td>49</td>\n      <td>25</td>\n      <td>12</td>\n    </tr>\n    <tr>\n      <th>top</th>\n      <td>@BarackObama</td>\n      <td>BTS</td>\n      <td>Musician</td>\n      <td>United States</td>\n    </tr>\n    <tr>\n      <th>freq</th>\n      <td>1</td>\n      <td>2</td>\n      <td>9</td>\n      <td>29</td>\n    </tr>\n  </tbody>\n</table>\n</div>"
     },
     "execution_count": 10,
     "metadata": {},
     "output_type": "execute_result"
    }
   ],
   "source": [
    "df.describe(include='object')"
   ],
   "metadata": {
    "collapsed": false
   }
  },
  {
   "cell_type": "markdown",
   "source": [
    "### 2.4 Filtering Columns"
   ],
   "metadata": {
    "collapsed": false
   }
  },
  {
   "cell_type": "code",
   "execution_count": 11,
   "outputs": [
    {
     "data": {
      "text/plain": "0     44th President of the United States of America\n1                                           Musician\n2                                           Musician\n3                                           Musician\n4                                    Football player\n5                      Engineer and Business magnate\n6                                           Musician\n7     45th President of the United States of America\n8                               Musician and actress\n9                               Musician and actress\n10                           Prime Minister of India\n11                      Comedian and television host\n12                     Online video sharing platform\n13                            Television personality\n14                              Musician and actress\n15                                Musician and actor\n16                                      News channel\n17                             Social media platform\n18                    Businessman and philanthropist\n19                                      News channel\n20                             American space agency\n21                                   Football player\n22                                          Musician\n23                              Musician and actress\n24                                         Newspaper\n25                                          Musician\n26                      Comedian and television host\n27                                 Basketball player\n28                                      News channel\n29             Office of the Prime Minister of India\n30                                    Cricket player\n31                                             Actor\n32                              Musician and actress\n33                                   Musicians/K-pop\n34                              Musician and actress\n35                                             Actor\n36                                             Actor\n37                            Television personality\n38                                          Musician\n39                                             Actor\n40                                     Football club\n41                                     Football club\n42                                          Musician\n43                               Football tournament\n44                                    Sports channel\n45                                    Sports channel\n46                            Television personality\n47                                            Rapper\n48                                   Musicians/K-pop\n49                                          Musician\nName: Occupation, dtype: object"
     },
     "execution_count": 11,
     "metadata": {},
     "output_type": "execute_result"
    }
   ],
   "source": [
    "df.Occupation"
   ],
   "metadata": {
    "collapsed": false
   }
  },
  {
   "cell_type": "code",
   "execution_count": 12,
   "outputs": [
    {
     "data": {
      "text/plain": "             Account Name                                      Occupation\n0            Barack Obama  44th President of the United States of America\n1           Justin Bieber                                        Musician\n2              Katy Perry                                        Musician\n3                 Rihanna                                        Musician\n4       Cristiano Ronaldo                                 Football player\n5               Elon Musk                   Engineer and Business magnate\n6            Taylor Swift                                        Musician\n7            Donald Trump  45th President of the United States of America\n8           Ariana Grande                            Musician and actress\n9               Lady Gaga                            Musician and actress\n10          Narendra Modi                         Prime Minister of India\n11        Ellen DeGeneres                    Comedian and television host\n12                YouTube                   Online video sharing platform\n13         Kim Kardashian                          Television personality\n14           Selena Gomez                            Musician and actress\n15      Justin Timberlake                              Musician and actor\n16      CNN Breaking News                                    News channel\n17                Twitter                           Social media platform\n18             Bill Gates                  Businessman and philanthropist\n19                    CNN                                    News channel\n20                   NASA                           American space agency\n21                 Neymar                                 Football player\n22         Britney Spears                                        Musician\n23            Demi Lovato                            Musician and actress\n24     The New York Times                                       Newspaper\n25                Shakira                                        Musician\n26           Jimmy Fallon                    Comedian and television host\n27           LeBron James                               Basketball player\n28      BBC Breaking News                                    News channel\n29              PMO India           Office of the Prime Minister of India\n30            Virat Kohli                                  Cricket player\n31       Amitabh Bachchan                                           Actor\n32            Miley Cyrus                            Musician and actress\n33                    BTS                                 Musicians/K-pop\n34         Jennifer Lopez                            Musician and actress\n35           Akshay Kumar                                           Actor\n36            Salman Khan                                           Actor\n37          Oprah Winfrey                          Television personality\n38             Bruno Mars                                        Musician\n39         Shah Rukh Khan                                           Actor\n40         Real Madrid CF                                   Football club\n41           FC Barcelona                                   Football club\n42            Niall Horan                                        Musician\n43  UEFA Champions League                             Football tournament\n44                   ESPN                                  Sports channel\n45           SportsCenter                                  Sports channel\n46           Kylie Jenner                          Television personality\n47                  Drake                                          Rapper\n48                    BTS                                 Musicians/K-pop\n49           Harry Styles                                        Musician",
      "text/html": "<div>\n<style scoped>\n    .dataframe tbody tr th:only-of-type {\n        vertical-align: middle;\n    }\n\n    .dataframe tbody tr th {\n        vertical-align: top;\n    }\n\n    .dataframe thead th {\n        text-align: right;\n    }\n</style>\n<table border=\"1\" class=\"dataframe\">\n  <thead>\n    <tr style=\"text-align: right;\">\n      <th></th>\n      <th>Account Name</th>\n      <th>Occupation</th>\n    </tr>\n  </thead>\n  <tbody>\n    <tr>\n      <th>0</th>\n      <td>Barack Obama</td>\n      <td>44th President of the United States of America</td>\n    </tr>\n    <tr>\n      <th>1</th>\n      <td>Justin Bieber</td>\n      <td>Musician</td>\n    </tr>\n    <tr>\n      <th>2</th>\n      <td>Katy Perry</td>\n      <td>Musician</td>\n    </tr>\n    <tr>\n      <th>3</th>\n      <td>Rihanna</td>\n      <td>Musician</td>\n    </tr>\n    <tr>\n      <th>4</th>\n      <td>Cristiano Ronaldo</td>\n      <td>Football player</td>\n    </tr>\n    <tr>\n      <th>5</th>\n      <td>Elon Musk</td>\n      <td>Engineer and Business magnate</td>\n    </tr>\n    <tr>\n      <th>6</th>\n      <td>Taylor Swift</td>\n      <td>Musician</td>\n    </tr>\n    <tr>\n      <th>7</th>\n      <td>Donald Trump</td>\n      <td>45th President of the United States of America</td>\n    </tr>\n    <tr>\n      <th>8</th>\n      <td>Ariana Grande</td>\n      <td>Musician and actress</td>\n    </tr>\n    <tr>\n      <th>9</th>\n      <td>Lady Gaga</td>\n      <td>Musician and actress</td>\n    </tr>\n    <tr>\n      <th>10</th>\n      <td>Narendra Modi</td>\n      <td>Prime Minister of India</td>\n    </tr>\n    <tr>\n      <th>11</th>\n      <td>Ellen DeGeneres</td>\n      <td>Comedian and television host</td>\n    </tr>\n    <tr>\n      <th>12</th>\n      <td>YouTube</td>\n      <td>Online video sharing platform</td>\n    </tr>\n    <tr>\n      <th>13</th>\n      <td>Kim Kardashian</td>\n      <td>Television personality</td>\n    </tr>\n    <tr>\n      <th>14</th>\n      <td>Selena Gomez</td>\n      <td>Musician and actress</td>\n    </tr>\n    <tr>\n      <th>15</th>\n      <td>Justin Timberlake</td>\n      <td>Musician and actor</td>\n    </tr>\n    <tr>\n      <th>16</th>\n      <td>CNN Breaking News</td>\n      <td>News channel</td>\n    </tr>\n    <tr>\n      <th>17</th>\n      <td>Twitter</td>\n      <td>Social media platform</td>\n    </tr>\n    <tr>\n      <th>18</th>\n      <td>Bill Gates</td>\n      <td>Businessman and philanthropist</td>\n    </tr>\n    <tr>\n      <th>19</th>\n      <td>CNN</td>\n      <td>News channel</td>\n    </tr>\n    <tr>\n      <th>20</th>\n      <td>NASA</td>\n      <td>American space agency</td>\n    </tr>\n    <tr>\n      <th>21</th>\n      <td>Neymar</td>\n      <td>Football player</td>\n    </tr>\n    <tr>\n      <th>22</th>\n      <td>Britney Spears</td>\n      <td>Musician</td>\n    </tr>\n    <tr>\n      <th>23</th>\n      <td>Demi Lovato</td>\n      <td>Musician and actress</td>\n    </tr>\n    <tr>\n      <th>24</th>\n      <td>The New York Times</td>\n      <td>Newspaper</td>\n    </tr>\n    <tr>\n      <th>25</th>\n      <td>Shakira</td>\n      <td>Musician</td>\n    </tr>\n    <tr>\n      <th>26</th>\n      <td>Jimmy Fallon</td>\n      <td>Comedian and television host</td>\n    </tr>\n    <tr>\n      <th>27</th>\n      <td>LeBron James</td>\n      <td>Basketball player</td>\n    </tr>\n    <tr>\n      <th>28</th>\n      <td>BBC Breaking News</td>\n      <td>News channel</td>\n    </tr>\n    <tr>\n      <th>29</th>\n      <td>PMO India</td>\n      <td>Office of the Prime Minister of India</td>\n    </tr>\n    <tr>\n      <th>30</th>\n      <td>Virat Kohli</td>\n      <td>Cricket player</td>\n    </tr>\n    <tr>\n      <th>31</th>\n      <td>Amitabh Bachchan</td>\n      <td>Actor</td>\n    </tr>\n    <tr>\n      <th>32</th>\n      <td>Miley Cyrus</td>\n      <td>Musician and actress</td>\n    </tr>\n    <tr>\n      <th>33</th>\n      <td>BTS</td>\n      <td>Musicians/K-pop</td>\n    </tr>\n    <tr>\n      <th>34</th>\n      <td>Jennifer Lopez</td>\n      <td>Musician and actress</td>\n    </tr>\n    <tr>\n      <th>35</th>\n      <td>Akshay Kumar</td>\n      <td>Actor</td>\n    </tr>\n    <tr>\n      <th>36</th>\n      <td>Salman Khan</td>\n      <td>Actor</td>\n    </tr>\n    <tr>\n      <th>37</th>\n      <td>Oprah Winfrey</td>\n      <td>Television personality</td>\n    </tr>\n    <tr>\n      <th>38</th>\n      <td>Bruno Mars</td>\n      <td>Musician</td>\n    </tr>\n    <tr>\n      <th>39</th>\n      <td>Shah Rukh Khan</td>\n      <td>Actor</td>\n    </tr>\n    <tr>\n      <th>40</th>\n      <td>Real Madrid CF</td>\n      <td>Football club</td>\n    </tr>\n    <tr>\n      <th>41</th>\n      <td>FC Barcelona</td>\n      <td>Football club</td>\n    </tr>\n    <tr>\n      <th>42</th>\n      <td>Niall Horan</td>\n      <td>Musician</td>\n    </tr>\n    <tr>\n      <th>43</th>\n      <td>UEFA Champions League</td>\n      <td>Football tournament</td>\n    </tr>\n    <tr>\n      <th>44</th>\n      <td>ESPN</td>\n      <td>Sports channel</td>\n    </tr>\n    <tr>\n      <th>45</th>\n      <td>SportsCenter</td>\n      <td>Sports channel</td>\n    </tr>\n    <tr>\n      <th>46</th>\n      <td>Kylie Jenner</td>\n      <td>Television personality</td>\n    </tr>\n    <tr>\n      <th>47</th>\n      <td>Drake</td>\n      <td>Rapper</td>\n    </tr>\n    <tr>\n      <th>48</th>\n      <td>BTS</td>\n      <td>Musicians/K-pop</td>\n    </tr>\n    <tr>\n      <th>49</th>\n      <td>Harry Styles</td>\n      <td>Musician</td>\n    </tr>\n  </tbody>\n</table>\n</div>"
     },
     "execution_count": 12,
     "metadata": {},
     "output_type": "execute_result"
    }
   ],
   "source": [
    "df[['Account Name', 'Occupation']]"
   ],
   "metadata": {
    "collapsed": false
   }
  },
  {
   "cell_type": "markdown",
   "source": [
    "### 2.5 Filtering on Rows"
   ],
   "metadata": {
    "collapsed": false
   }
  },
  {
   "cell_type": "code",
   "execution_count": 13,
   "outputs": [
    {
     "data": {
      "text/plain": "    Rank Account username Account Name  Followers (millions)  \\\n20    21            @NASA         NASA                  57.3   \n\n               Occupation         Country  \n20  American space agency   United States  ",
      "text/html": "<div>\n<style scoped>\n    .dataframe tbody tr th:only-of-type {\n        vertical-align: middle;\n    }\n\n    .dataframe tbody tr th {\n        vertical-align: top;\n    }\n\n    .dataframe thead th {\n        text-align: right;\n    }\n</style>\n<table border=\"1\" class=\"dataframe\">\n  <thead>\n    <tr style=\"text-align: right;\">\n      <th></th>\n      <th>Rank</th>\n      <th>Account username</th>\n      <th>Account Name</th>\n      <th>Followers (millions)</th>\n      <th>Occupation</th>\n      <th>Country</th>\n    </tr>\n  </thead>\n  <tbody>\n    <tr>\n      <th>20</th>\n      <td>21</td>\n      <td>@NASA</td>\n      <td>NASA</td>\n      <td>57.3</td>\n      <td>American space agency</td>\n      <td>United States</td>\n    </tr>\n  </tbody>\n</table>\n</div>"
     },
     "execution_count": 13,
     "metadata": {},
     "output_type": "execute_result"
    }
   ],
   "source": [
    "df[df['Account username']=='@NASA']"
   ],
   "metadata": {
    "collapsed": false
   }
  },
  {
   "cell_type": "markdown",
   "source": [
    "### 2.6 Indexing rows with iloc"
   ],
   "metadata": {
    "collapsed": false
   }
  },
  {
   "cell_type": "code",
   "execution_count": 14,
   "outputs": [
    {
     "data": {
      "text/plain": "Rank                                2\nAccount username        @justinbieber\nAccount Name            Justin Bieber\nFollowers (millions)            114.2\nOccupation                   Musician\nCountry                        Canada\nName: 1, dtype: object"
     },
     "execution_count": 14,
     "metadata": {},
     "output_type": "execute_result"
    }
   ],
   "source": [
    "df.iloc[1]"
   ],
   "metadata": {
    "collapsed": false
   }
  },
  {
   "cell_type": "code",
   "execution_count": 15,
   "outputs": [
    {
     "data": {
      "text/plain": "'Justin Bieber'"
     },
     "execution_count": 15,
     "metadata": {},
     "output_type": "execute_result"
    }
   ],
   "source": [
    "df.iloc[1,2]"
   ],
   "metadata": {
    "collapsed": false
   }
  },
  {
   "cell_type": "code",
   "execution_count": 16,
   "outputs": [
    {
     "data": {
      "text/plain": "   Rank Account username   Account Name  Followers (millions)  \\\n0     1     @BarackObama   Barack Obama                 132.0   \n1     2    @justinbieber  Justin Bieber                 114.2   \n2     3       @katyperry     Katy Perry                 108.8   \n3     4         @rihanna        Rihanna                 106.7   \n\n                                       Occupation         Country  \n0  44th President of the United States of America   United States  \n1                                        Musician          Canada  \n2                                        Musician   United States  \n3                                        Musician        Barbados  ",
      "text/html": "<div>\n<style scoped>\n    .dataframe tbody tr th:only-of-type {\n        vertical-align: middle;\n    }\n\n    .dataframe tbody tr th {\n        vertical-align: top;\n    }\n\n    .dataframe thead th {\n        text-align: right;\n    }\n</style>\n<table border=\"1\" class=\"dataframe\">\n  <thead>\n    <tr style=\"text-align: right;\">\n      <th></th>\n      <th>Rank</th>\n      <th>Account username</th>\n      <th>Account Name</th>\n      <th>Followers (millions)</th>\n      <th>Occupation</th>\n      <th>Country</th>\n    </tr>\n  </thead>\n  <tbody>\n    <tr>\n      <th>0</th>\n      <td>1</td>\n      <td>@BarackObama</td>\n      <td>Barack Obama</td>\n      <td>132.0</td>\n      <td>44th President of the United States of America</td>\n      <td>United States</td>\n    </tr>\n    <tr>\n      <th>1</th>\n      <td>2</td>\n      <td>@justinbieber</td>\n      <td>Justin Bieber</td>\n      <td>114.2</td>\n      <td>Musician</td>\n      <td>Canada</td>\n    </tr>\n    <tr>\n      <th>2</th>\n      <td>3</td>\n      <td>@katyperry</td>\n      <td>Katy Perry</td>\n      <td>108.8</td>\n      <td>Musician</td>\n      <td>United States</td>\n    </tr>\n    <tr>\n      <th>3</th>\n      <td>4</td>\n      <td>@rihanna</td>\n      <td>Rihanna</td>\n      <td>106.7</td>\n      <td>Musician</td>\n      <td>Barbados</td>\n    </tr>\n  </tbody>\n</table>\n</div>"
     },
     "execution_count": 16,
     "metadata": {},
     "output_type": "execute_result"
    }
   ],
   "source": [
    "df.iloc[0:4]"
   ],
   "metadata": {
    "collapsed": false
   }
  },
  {
   "cell_type": "markdown",
   "source": [
    "### 2.7 Indexing with loc"
   ],
   "metadata": {
    "collapsed": false
   }
  },
  {
   "cell_type": "code",
   "execution_count": 17,
   "outputs": [],
   "source": [
    "indexed_df = df.copy()\n",
    "indexed_df.set_index('Rank', inplace=True)"
   ],
   "metadata": {
    "collapsed": false
   }
  },
  {
   "cell_type": "code",
   "execution_count": 18,
   "outputs": [
    {
     "data": {
      "text/plain": "     Account username       Account Name  Followers (millions)  \\\nRank                                                             \n1        @BarackObama       Barack Obama                 132.0   \n2       @justinbieber      Justin Bieber                 114.2   \n3          @katyperry         Katy Perry                 108.8   \n4            @rihanna            Rihanna                 106.7   \n5          @Cristiano  Cristiano Ronaldo                 100.6   \n\n                                          Occupation         Country  \nRank                                                                  \n1     44th President of the United States of America   United States  \n2                                           Musician          Canada  \n3                                           Musician   United States  \n4                                           Musician        Barbados  \n5                                    Football player        Portugal  ",
      "text/html": "<div>\n<style scoped>\n    .dataframe tbody tr th:only-of-type {\n        vertical-align: middle;\n    }\n\n    .dataframe tbody tr th {\n        vertical-align: top;\n    }\n\n    .dataframe thead th {\n        text-align: right;\n    }\n</style>\n<table border=\"1\" class=\"dataframe\">\n  <thead>\n    <tr style=\"text-align: right;\">\n      <th></th>\n      <th>Account username</th>\n      <th>Account Name</th>\n      <th>Followers (millions)</th>\n      <th>Occupation</th>\n      <th>Country</th>\n    </tr>\n    <tr>\n      <th>Rank</th>\n      <th></th>\n      <th></th>\n      <th></th>\n      <th></th>\n      <th></th>\n    </tr>\n  </thead>\n  <tbody>\n    <tr>\n      <th>1</th>\n      <td>@BarackObama</td>\n      <td>Barack Obama</td>\n      <td>132.0</td>\n      <td>44th President of the United States of America</td>\n      <td>United States</td>\n    </tr>\n    <tr>\n      <th>2</th>\n      <td>@justinbieber</td>\n      <td>Justin Bieber</td>\n      <td>114.2</td>\n      <td>Musician</td>\n      <td>Canada</td>\n    </tr>\n    <tr>\n      <th>3</th>\n      <td>@katyperry</td>\n      <td>Katy Perry</td>\n      <td>108.8</td>\n      <td>Musician</td>\n      <td>United States</td>\n    </tr>\n    <tr>\n      <th>4</th>\n      <td>@rihanna</td>\n      <td>Rihanna</td>\n      <td>106.7</td>\n      <td>Musician</td>\n      <td>Barbados</td>\n    </tr>\n    <tr>\n      <th>5</th>\n      <td>@Cristiano</td>\n      <td>Cristiano Ronaldo</td>\n      <td>100.6</td>\n      <td>Football player</td>\n      <td>Portugal</td>\n    </tr>\n  </tbody>\n</table>\n</div>"
     },
     "execution_count": 18,
     "metadata": {},
     "output_type": "execute_result"
    }
   ],
   "source": [
    "indexed_df.head()"
   ],
   "metadata": {
    "collapsed": false
   }
  },
  {
   "cell_type": "code",
   "execution_count": 19,
   "outputs": [
    {
     "data": {
      "text/plain": "Account username               @Cristiano\nAccount Name            Cristiano Ronaldo\nFollowers (millions)                100.6\nOccupation                Football player\nCountry                          Portugal\nName: 5, dtype: object"
     },
     "execution_count": 19,
     "metadata": {},
     "output_type": "execute_result"
    }
   ],
   "source": [
    "indexed_df.loc[5]"
   ],
   "metadata": {
    "collapsed": false
   }
  },
  {
   "cell_type": "markdown",
   "source": [
    "## 3. Update"
   ],
   "metadata": {
    "collapsed": false
   }
  },
  {
   "cell_type": "markdown",
   "source": [
    "### 3.1 Dropping Rows"
   ],
   "metadata": {
    "collapsed": false
   }
  },
  {
   "cell_type": "code",
   "execution_count": 20,
   "outputs": [
    {
     "data": {
      "text/plain": "    Rank     Account username           Account Name  Followers (millions)  \\\n0      1         @BarackObama           Barack Obama                 132.0   \n1      2        @justinbieber          Justin Bieber                 114.2   \n2      3           @katyperry             Katy Perry                 108.8   \n3      4             @rihanna                Rihanna                 106.7   \n4      5           @Cristiano      Cristiano Ronaldo                 100.6   \n5      6            @elonmusk              Elon Musk                  96.2   \n6      7       @taylorswift13           Taylor Swift                  90.3   \n7      8  @realDonaldTrump[3]           Donald Trump                  88.8   \n8      9     @ArianaGrande[4]          Ariana Grande                  85.3   \n9     10            @ladygaga              Lady Gaga                  84.7   \n10    11        @narendramodi          Narendra Modi                  79.3   \n11    12        @TheEllenShow        Ellen DeGeneres                  77.5   \n13    14       @KimKardashian         Kim Kardashian                  72.5   \n14    15         @selenagomez           Selena Gomez                  65.8   \n15    16         @jtimberlake      Justin Timberlake                  63.1   \n16    17              @cnnbrk      CNN Breaking News                  63.1   \n17    18          @Twitter[a]                Twitter                  61.8   \n18    19           @BillGates             Bill Gates                  59.1   \n19    20                 @CNN                    CNN                  58.2   \n20    21                @NASA                   NASA                  57.3   \n21    22            @neymarjr                 Neymar                  56.8   \n22    23       @britneyspears         Britney Spears                  55.8   \n23    24            @ddlovato            Demi Lovato                  54.1   \n24    25             @nytimes     The New York Times                  53.0   \n25    26             @shakira                Shakira                  52.8   \n26    27         @jimmyfallon           Jimmy Fallon                  51.4   \n27    28           @kingjames           LeBron James                  51.3   \n28    29         @bbcbreaking      BBC Breaking News                  50.0   \n29    30            @pmoindia              PMO India                  48.4   \n30    31            @imvkohli            Virat Kohli                  48.1   \n31    32          @srbachchan       Amitabh Bachchan                  47.4   \n32    33          @MileyCyrus            Miley Cyrus                  46.7   \n33    34             @bts_twt                    BTS                  46.0   \n34    35                 @JLo         Jennifer Lopez                  45.3   \n35    36         @akshaykumar           Akshay Kumar                  44.6   \n36    37     @beingsalmankhan            Salman Khan                  44.1   \n37    38               @oprah          Oprah Winfrey                  43.2   \n38    39           @brunomars             Bruno Mars                  43.2   \n39    40              @iamsrk         Shah Rukh Khan                  42.5   \n40    41          @realmadrid         Real Madrid CF                  41.8   \n41    42         @fcbarcelona           FC Barcelona                  41.5   \n42    43       @niallofficial            Niall Horan                  41.3   \n43    44     @championsleague  UEFA Champions League                  41.1   \n44    45                @espn                   ESPN                  40.2   \n45    46        @sportscenter           SportsCenter                  40.0   \n46    47         @KylieJenner           Kylie Jenner                  39.9   \n47    48               @drake                  Drake                  39.5   \n48    49          @bts_bighit                    BTS                  39.2   \n49    50        @Harry_Styles           Harry Styles                  37.7   \n\n                                        Occupation          Country  \n0   44th President of the United States of America    United States  \n1                                         Musician           Canada  \n2                                         Musician    United States  \n3                                         Musician         Barbados  \n4                                  Football player         Portugal  \n5                    Engineer and Business magnate    United States  \n6                                         Musician    United States  \n7   45th President of the United States of America    United States  \n8                             Musician and actress    United States  \n9                             Musician and actress    United States  \n10                         Prime Minister of India            India  \n11                    Comedian and television host    United States  \n13                          Television personality    United States  \n14                            Musician and actress    United States  \n15                              Musician and actor    United States  \n16                                    News channel    United States  \n17                           Social media platform    United States  \n18                  Businessman and philanthropist    United States  \n19                                    News channel    United States  \n20                           American space agency    United States  \n21                                 Football player           Brazil  \n22                                        Musician    United States  \n23                            Musician and actress    United States  \n24                                       Newspaper    United States  \n25                                        Musician         Colombia  \n26                    Comedian and television host    United States  \n27                               Basketball player    United States  \n28                                    News channel   United Kingdom  \n29           Office of the Prime Minister of India            India  \n30                                  Cricket player            India  \n31                                           Actor            India  \n32                            Musician and actress    United States  \n33                                 Musicians/K-pop      South Korea  \n34                            Musician and actress    United States  \n35                                           Actor            India  \n36                                           Actor            India  \n37                          Television personality    United States  \n38                                        Musician    United States  \n39                                           Actor            India  \n40                                   Football club            Spain  \n41                                   Football club            Spain  \n42                                        Musician          Ireland  \n43                             Football tournament           Europe  \n44                                  Sports channel    United States  \n45                                  Sports channel    United States  \n46                          Television personality    United States  \n47                                          Rapper           Canada  \n48                                 Musicians/K-pop      South Korea  \n49                                        Musician   United Kingdom  ",
      "text/html": "<div>\n<style scoped>\n    .dataframe tbody tr th:only-of-type {\n        vertical-align: middle;\n    }\n\n    .dataframe tbody tr th {\n        vertical-align: top;\n    }\n\n    .dataframe thead th {\n        text-align: right;\n    }\n</style>\n<table border=\"1\" class=\"dataframe\">\n  <thead>\n    <tr style=\"text-align: right;\">\n      <th></th>\n      <th>Rank</th>\n      <th>Account username</th>\n      <th>Account Name</th>\n      <th>Followers (millions)</th>\n      <th>Occupation</th>\n      <th>Country</th>\n    </tr>\n  </thead>\n  <tbody>\n    <tr>\n      <th>0</th>\n      <td>1</td>\n      <td>@BarackObama</td>\n      <td>Barack Obama</td>\n      <td>132.0</td>\n      <td>44th President of the United States of America</td>\n      <td>United States</td>\n    </tr>\n    <tr>\n      <th>1</th>\n      <td>2</td>\n      <td>@justinbieber</td>\n      <td>Justin Bieber</td>\n      <td>114.2</td>\n      <td>Musician</td>\n      <td>Canada</td>\n    </tr>\n    <tr>\n      <th>2</th>\n      <td>3</td>\n      <td>@katyperry</td>\n      <td>Katy Perry</td>\n      <td>108.8</td>\n      <td>Musician</td>\n      <td>United States</td>\n    </tr>\n    <tr>\n      <th>3</th>\n      <td>4</td>\n      <td>@rihanna</td>\n      <td>Rihanna</td>\n      <td>106.7</td>\n      <td>Musician</td>\n      <td>Barbados</td>\n    </tr>\n    <tr>\n      <th>4</th>\n      <td>5</td>\n      <td>@Cristiano</td>\n      <td>Cristiano Ronaldo</td>\n      <td>100.6</td>\n      <td>Football player</td>\n      <td>Portugal</td>\n    </tr>\n    <tr>\n      <th>5</th>\n      <td>6</td>\n      <td>@elonmusk</td>\n      <td>Elon Musk</td>\n      <td>96.2</td>\n      <td>Engineer and Business magnate</td>\n      <td>United States</td>\n    </tr>\n    <tr>\n      <th>6</th>\n      <td>7</td>\n      <td>@taylorswift13</td>\n      <td>Taylor Swift</td>\n      <td>90.3</td>\n      <td>Musician</td>\n      <td>United States</td>\n    </tr>\n    <tr>\n      <th>7</th>\n      <td>8</td>\n      <td>@realDonaldTrump[3]</td>\n      <td>Donald Trump</td>\n      <td>88.8</td>\n      <td>45th President of the United States of America</td>\n      <td>United States</td>\n    </tr>\n    <tr>\n      <th>8</th>\n      <td>9</td>\n      <td>@ArianaGrande[4]</td>\n      <td>Ariana Grande</td>\n      <td>85.3</td>\n      <td>Musician and actress</td>\n      <td>United States</td>\n    </tr>\n    <tr>\n      <th>9</th>\n      <td>10</td>\n      <td>@ladygaga</td>\n      <td>Lady Gaga</td>\n      <td>84.7</td>\n      <td>Musician and actress</td>\n      <td>United States</td>\n    </tr>\n    <tr>\n      <th>10</th>\n      <td>11</td>\n      <td>@narendramodi</td>\n      <td>Narendra Modi</td>\n      <td>79.3</td>\n      <td>Prime Minister of India</td>\n      <td>India</td>\n    </tr>\n    <tr>\n      <th>11</th>\n      <td>12</td>\n      <td>@TheEllenShow</td>\n      <td>Ellen DeGeneres</td>\n      <td>77.5</td>\n      <td>Comedian and television host</td>\n      <td>United States</td>\n    </tr>\n    <tr>\n      <th>13</th>\n      <td>14</td>\n      <td>@KimKardashian</td>\n      <td>Kim Kardashian</td>\n      <td>72.5</td>\n      <td>Television personality</td>\n      <td>United States</td>\n    </tr>\n    <tr>\n      <th>14</th>\n      <td>15</td>\n      <td>@selenagomez</td>\n      <td>Selena Gomez</td>\n      <td>65.8</td>\n      <td>Musician and actress</td>\n      <td>United States</td>\n    </tr>\n    <tr>\n      <th>15</th>\n      <td>16</td>\n      <td>@jtimberlake</td>\n      <td>Justin Timberlake</td>\n      <td>63.1</td>\n      <td>Musician and actor</td>\n      <td>United States</td>\n    </tr>\n    <tr>\n      <th>16</th>\n      <td>17</td>\n      <td>@cnnbrk</td>\n      <td>CNN Breaking News</td>\n      <td>63.1</td>\n      <td>News channel</td>\n      <td>United States</td>\n    </tr>\n    <tr>\n      <th>17</th>\n      <td>18</td>\n      <td>@Twitter[a]</td>\n      <td>Twitter</td>\n      <td>61.8</td>\n      <td>Social media platform</td>\n      <td>United States</td>\n    </tr>\n    <tr>\n      <th>18</th>\n      <td>19</td>\n      <td>@BillGates</td>\n      <td>Bill Gates</td>\n      <td>59.1</td>\n      <td>Businessman and philanthropist</td>\n      <td>United States</td>\n    </tr>\n    <tr>\n      <th>19</th>\n      <td>20</td>\n      <td>@CNN</td>\n      <td>CNN</td>\n      <td>58.2</td>\n      <td>News channel</td>\n      <td>United States</td>\n    </tr>\n    <tr>\n      <th>20</th>\n      <td>21</td>\n      <td>@NASA</td>\n      <td>NASA</td>\n      <td>57.3</td>\n      <td>American space agency</td>\n      <td>United States</td>\n    </tr>\n    <tr>\n      <th>21</th>\n      <td>22</td>\n      <td>@neymarjr</td>\n      <td>Neymar</td>\n      <td>56.8</td>\n      <td>Football player</td>\n      <td>Brazil</td>\n    </tr>\n    <tr>\n      <th>22</th>\n      <td>23</td>\n      <td>@britneyspears</td>\n      <td>Britney Spears</td>\n      <td>55.8</td>\n      <td>Musician</td>\n      <td>United States</td>\n    </tr>\n    <tr>\n      <th>23</th>\n      <td>24</td>\n      <td>@ddlovato</td>\n      <td>Demi Lovato</td>\n      <td>54.1</td>\n      <td>Musician and actress</td>\n      <td>United States</td>\n    </tr>\n    <tr>\n      <th>24</th>\n      <td>25</td>\n      <td>@nytimes</td>\n      <td>The New York Times</td>\n      <td>53.0</td>\n      <td>Newspaper</td>\n      <td>United States</td>\n    </tr>\n    <tr>\n      <th>25</th>\n      <td>26</td>\n      <td>@shakira</td>\n      <td>Shakira</td>\n      <td>52.8</td>\n      <td>Musician</td>\n      <td>Colombia</td>\n    </tr>\n    <tr>\n      <th>26</th>\n      <td>27</td>\n      <td>@jimmyfallon</td>\n      <td>Jimmy Fallon</td>\n      <td>51.4</td>\n      <td>Comedian and television host</td>\n      <td>United States</td>\n    </tr>\n    <tr>\n      <th>27</th>\n      <td>28</td>\n      <td>@kingjames</td>\n      <td>LeBron James</td>\n      <td>51.3</td>\n      <td>Basketball player</td>\n      <td>United States</td>\n    </tr>\n    <tr>\n      <th>28</th>\n      <td>29</td>\n      <td>@bbcbreaking</td>\n      <td>BBC Breaking News</td>\n      <td>50.0</td>\n      <td>News channel</td>\n      <td>United Kingdom</td>\n    </tr>\n    <tr>\n      <th>29</th>\n      <td>30</td>\n      <td>@pmoindia</td>\n      <td>PMO India</td>\n      <td>48.4</td>\n      <td>Office of the Prime Minister of India</td>\n      <td>India</td>\n    </tr>\n    <tr>\n      <th>30</th>\n      <td>31</td>\n      <td>@imvkohli</td>\n      <td>Virat Kohli</td>\n      <td>48.1</td>\n      <td>Cricket player</td>\n      <td>India</td>\n    </tr>\n    <tr>\n      <th>31</th>\n      <td>32</td>\n      <td>@srbachchan</td>\n      <td>Amitabh Bachchan</td>\n      <td>47.4</td>\n      <td>Actor</td>\n      <td>India</td>\n    </tr>\n    <tr>\n      <th>32</th>\n      <td>33</td>\n      <td>@MileyCyrus</td>\n      <td>Miley Cyrus</td>\n      <td>46.7</td>\n      <td>Musician and actress</td>\n      <td>United States</td>\n    </tr>\n    <tr>\n      <th>33</th>\n      <td>34</td>\n      <td>@bts_twt</td>\n      <td>BTS</td>\n      <td>46.0</td>\n      <td>Musicians/K-pop</td>\n      <td>South Korea</td>\n    </tr>\n    <tr>\n      <th>34</th>\n      <td>35</td>\n      <td>@JLo</td>\n      <td>Jennifer Lopez</td>\n      <td>45.3</td>\n      <td>Musician and actress</td>\n      <td>United States</td>\n    </tr>\n    <tr>\n      <th>35</th>\n      <td>36</td>\n      <td>@akshaykumar</td>\n      <td>Akshay Kumar</td>\n      <td>44.6</td>\n      <td>Actor</td>\n      <td>India</td>\n    </tr>\n    <tr>\n      <th>36</th>\n      <td>37</td>\n      <td>@beingsalmankhan</td>\n      <td>Salman Khan</td>\n      <td>44.1</td>\n      <td>Actor</td>\n      <td>India</td>\n    </tr>\n    <tr>\n      <th>37</th>\n      <td>38</td>\n      <td>@oprah</td>\n      <td>Oprah Winfrey</td>\n      <td>43.2</td>\n      <td>Television personality</td>\n      <td>United States</td>\n    </tr>\n    <tr>\n      <th>38</th>\n      <td>39</td>\n      <td>@brunomars</td>\n      <td>Bruno Mars</td>\n      <td>43.2</td>\n      <td>Musician</td>\n      <td>United States</td>\n    </tr>\n    <tr>\n      <th>39</th>\n      <td>40</td>\n      <td>@iamsrk</td>\n      <td>Shah Rukh Khan</td>\n      <td>42.5</td>\n      <td>Actor</td>\n      <td>India</td>\n    </tr>\n    <tr>\n      <th>40</th>\n      <td>41</td>\n      <td>@realmadrid</td>\n      <td>Real Madrid CF</td>\n      <td>41.8</td>\n      <td>Football club</td>\n      <td>Spain</td>\n    </tr>\n    <tr>\n      <th>41</th>\n      <td>42</td>\n      <td>@fcbarcelona</td>\n      <td>FC Barcelona</td>\n      <td>41.5</td>\n      <td>Football club</td>\n      <td>Spain</td>\n    </tr>\n    <tr>\n      <th>42</th>\n      <td>43</td>\n      <td>@niallofficial</td>\n      <td>Niall Horan</td>\n      <td>41.3</td>\n      <td>Musician</td>\n      <td>Ireland</td>\n    </tr>\n    <tr>\n      <th>43</th>\n      <td>44</td>\n      <td>@championsleague</td>\n      <td>UEFA Champions League</td>\n      <td>41.1</td>\n      <td>Football tournament</td>\n      <td>Europe</td>\n    </tr>\n    <tr>\n      <th>44</th>\n      <td>45</td>\n      <td>@espn</td>\n      <td>ESPN</td>\n      <td>40.2</td>\n      <td>Sports channel</td>\n      <td>United States</td>\n    </tr>\n    <tr>\n      <th>45</th>\n      <td>46</td>\n      <td>@sportscenter</td>\n      <td>SportsCenter</td>\n      <td>40.0</td>\n      <td>Sports channel</td>\n      <td>United States</td>\n    </tr>\n    <tr>\n      <th>46</th>\n      <td>47</td>\n      <td>@KylieJenner</td>\n      <td>Kylie Jenner</td>\n      <td>39.9</td>\n      <td>Television personality</td>\n      <td>United States</td>\n    </tr>\n    <tr>\n      <th>47</th>\n      <td>48</td>\n      <td>@drake</td>\n      <td>Drake</td>\n      <td>39.5</td>\n      <td>Rapper</td>\n      <td>Canada</td>\n    </tr>\n    <tr>\n      <th>48</th>\n      <td>49</td>\n      <td>@bts_bighit</td>\n      <td>BTS</td>\n      <td>39.2</td>\n      <td>Musicians/K-pop</td>\n      <td>South Korea</td>\n    </tr>\n    <tr>\n      <th>49</th>\n      <td>50</td>\n      <td>@Harry_Styles</td>\n      <td>Harry Styles</td>\n      <td>37.7</td>\n      <td>Musician</td>\n      <td>United Kingdom</td>\n    </tr>\n  </tbody>\n</table>\n</div>"
     },
     "execution_count": 20,
     "metadata": {},
     "output_type": "execute_result"
    }
   ],
   "source": [
    "df.drop(12,axis=0)"
   ],
   "metadata": {
    "collapsed": false
   }
  },
  {
   "cell_type": "markdown",
   "source": [
    "### 3.2 Dropping Columns"
   ],
   "metadata": {
    "collapsed": false
   }
  },
  {
   "cell_type": "code",
   "execution_count": 21,
   "outputs": [
    {
     "data": {
      "text/plain": "    Rank           Account Name  Followers (millions)  \\\n0      1           Barack Obama                 132.0   \n1      2          Justin Bieber                 114.2   \n2      3             Katy Perry                 108.8   \n3      4                Rihanna                 106.7   \n4      5      Cristiano Ronaldo                 100.6   \n5      6              Elon Musk                  96.2   \n6      7           Taylor Swift                  90.3   \n7      8           Donald Trump                  88.8   \n8      9          Ariana Grande                  85.3   \n9     10              Lady Gaga                  84.7   \n10    11          Narendra Modi                  79.3   \n11    12        Ellen DeGeneres                  77.5   \n12    13                YouTube                  75.2   \n13    14         Kim Kardashian                  72.5   \n14    15           Selena Gomez                  65.8   \n15    16      Justin Timberlake                  63.1   \n16    17      CNN Breaking News                  63.1   \n17    18                Twitter                  61.8   \n18    19             Bill Gates                  59.1   \n19    20                    CNN                  58.2   \n20    21                   NASA                  57.3   \n21    22                 Neymar                  56.8   \n22    23         Britney Spears                  55.8   \n23    24            Demi Lovato                  54.1   \n24    25     The New York Times                  53.0   \n25    26                Shakira                  52.8   \n26    27           Jimmy Fallon                  51.4   \n27    28           LeBron James                  51.3   \n28    29      BBC Breaking News                  50.0   \n29    30              PMO India                  48.4   \n30    31            Virat Kohli                  48.1   \n31    32       Amitabh Bachchan                  47.4   \n32    33            Miley Cyrus                  46.7   \n33    34                    BTS                  46.0   \n34    35         Jennifer Lopez                  45.3   \n35    36           Akshay Kumar                  44.6   \n36    37            Salman Khan                  44.1   \n37    38          Oprah Winfrey                  43.2   \n38    39             Bruno Mars                  43.2   \n39    40         Shah Rukh Khan                  42.5   \n40    41         Real Madrid CF                  41.8   \n41    42           FC Barcelona                  41.5   \n42    43            Niall Horan                  41.3   \n43    44  UEFA Champions League                  41.1   \n44    45                   ESPN                  40.2   \n45    46           SportsCenter                  40.0   \n46    47           Kylie Jenner                  39.9   \n47    48                  Drake                  39.5   \n48    49                    BTS                  39.2   \n49    50           Harry Styles                  37.7   \n\n                                        Occupation          Country  \n0   44th President of the United States of America    United States  \n1                                         Musician           Canada  \n2                                         Musician    United States  \n3                                         Musician         Barbados  \n4                                  Football player         Portugal  \n5                    Engineer and Business magnate    United States  \n6                                         Musician    United States  \n7   45th President of the United States of America    United States  \n8                             Musician and actress    United States  \n9                             Musician and actress    United States  \n10                         Prime Minister of India            India  \n11                    Comedian and television host    United States  \n12                   Online video sharing platform    United States  \n13                          Television personality    United States  \n14                            Musician and actress    United States  \n15                              Musician and actor    United States  \n16                                    News channel    United States  \n17                           Social media platform    United States  \n18                  Businessman and philanthropist    United States  \n19                                    News channel    United States  \n20                           American space agency    United States  \n21                                 Football player           Brazil  \n22                                        Musician    United States  \n23                            Musician and actress    United States  \n24                                       Newspaper    United States  \n25                                        Musician         Colombia  \n26                    Comedian and television host    United States  \n27                               Basketball player    United States  \n28                                    News channel   United Kingdom  \n29           Office of the Prime Minister of India            India  \n30                                  Cricket player            India  \n31                                           Actor            India  \n32                            Musician and actress    United States  \n33                                 Musicians/K-pop      South Korea  \n34                            Musician and actress    United States  \n35                                           Actor            India  \n36                                           Actor            India  \n37                          Television personality    United States  \n38                                        Musician    United States  \n39                                           Actor            India  \n40                                   Football club            Spain  \n41                                   Football club            Spain  \n42                                        Musician          Ireland  \n43                             Football tournament           Europe  \n44                                  Sports channel    United States  \n45                                  Sports channel    United States  \n46                          Television personality    United States  \n47                                          Rapper           Canada  \n48                                 Musicians/K-pop      South Korea  \n49                                        Musician   United Kingdom  ",
      "text/html": "<div>\n<style scoped>\n    .dataframe tbody tr th:only-of-type {\n        vertical-align: middle;\n    }\n\n    .dataframe tbody tr th {\n        vertical-align: top;\n    }\n\n    .dataframe thead th {\n        text-align: right;\n    }\n</style>\n<table border=\"1\" class=\"dataframe\">\n  <thead>\n    <tr style=\"text-align: right;\">\n      <th></th>\n      <th>Rank</th>\n      <th>Account Name</th>\n      <th>Followers (millions)</th>\n      <th>Occupation</th>\n      <th>Country</th>\n    </tr>\n  </thead>\n  <tbody>\n    <tr>\n      <th>0</th>\n      <td>1</td>\n      <td>Barack Obama</td>\n      <td>132.0</td>\n      <td>44th President of the United States of America</td>\n      <td>United States</td>\n    </tr>\n    <tr>\n      <th>1</th>\n      <td>2</td>\n      <td>Justin Bieber</td>\n      <td>114.2</td>\n      <td>Musician</td>\n      <td>Canada</td>\n    </tr>\n    <tr>\n      <th>2</th>\n      <td>3</td>\n      <td>Katy Perry</td>\n      <td>108.8</td>\n      <td>Musician</td>\n      <td>United States</td>\n    </tr>\n    <tr>\n      <th>3</th>\n      <td>4</td>\n      <td>Rihanna</td>\n      <td>106.7</td>\n      <td>Musician</td>\n      <td>Barbados</td>\n    </tr>\n    <tr>\n      <th>4</th>\n      <td>5</td>\n      <td>Cristiano Ronaldo</td>\n      <td>100.6</td>\n      <td>Football player</td>\n      <td>Portugal</td>\n    </tr>\n    <tr>\n      <th>5</th>\n      <td>6</td>\n      <td>Elon Musk</td>\n      <td>96.2</td>\n      <td>Engineer and Business magnate</td>\n      <td>United States</td>\n    </tr>\n    <tr>\n      <th>6</th>\n      <td>7</td>\n      <td>Taylor Swift</td>\n      <td>90.3</td>\n      <td>Musician</td>\n      <td>United States</td>\n    </tr>\n    <tr>\n      <th>7</th>\n      <td>8</td>\n      <td>Donald Trump</td>\n      <td>88.8</td>\n      <td>45th President of the United States of America</td>\n      <td>United States</td>\n    </tr>\n    <tr>\n      <th>8</th>\n      <td>9</td>\n      <td>Ariana Grande</td>\n      <td>85.3</td>\n      <td>Musician and actress</td>\n      <td>United States</td>\n    </tr>\n    <tr>\n      <th>9</th>\n      <td>10</td>\n      <td>Lady Gaga</td>\n      <td>84.7</td>\n      <td>Musician and actress</td>\n      <td>United States</td>\n    </tr>\n    <tr>\n      <th>10</th>\n      <td>11</td>\n      <td>Narendra Modi</td>\n      <td>79.3</td>\n      <td>Prime Minister of India</td>\n      <td>India</td>\n    </tr>\n    <tr>\n      <th>11</th>\n      <td>12</td>\n      <td>Ellen DeGeneres</td>\n      <td>77.5</td>\n      <td>Comedian and television host</td>\n      <td>United States</td>\n    </tr>\n    <tr>\n      <th>12</th>\n      <td>13</td>\n      <td>YouTube</td>\n      <td>75.2</td>\n      <td>Online video sharing platform</td>\n      <td>United States</td>\n    </tr>\n    <tr>\n      <th>13</th>\n      <td>14</td>\n      <td>Kim Kardashian</td>\n      <td>72.5</td>\n      <td>Television personality</td>\n      <td>United States</td>\n    </tr>\n    <tr>\n      <th>14</th>\n      <td>15</td>\n      <td>Selena Gomez</td>\n      <td>65.8</td>\n      <td>Musician and actress</td>\n      <td>United States</td>\n    </tr>\n    <tr>\n      <th>15</th>\n      <td>16</td>\n      <td>Justin Timberlake</td>\n      <td>63.1</td>\n      <td>Musician and actor</td>\n      <td>United States</td>\n    </tr>\n    <tr>\n      <th>16</th>\n      <td>17</td>\n      <td>CNN Breaking News</td>\n      <td>63.1</td>\n      <td>News channel</td>\n      <td>United States</td>\n    </tr>\n    <tr>\n      <th>17</th>\n      <td>18</td>\n      <td>Twitter</td>\n      <td>61.8</td>\n      <td>Social media platform</td>\n      <td>United States</td>\n    </tr>\n    <tr>\n      <th>18</th>\n      <td>19</td>\n      <td>Bill Gates</td>\n      <td>59.1</td>\n      <td>Businessman and philanthropist</td>\n      <td>United States</td>\n    </tr>\n    <tr>\n      <th>19</th>\n      <td>20</td>\n      <td>CNN</td>\n      <td>58.2</td>\n      <td>News channel</td>\n      <td>United States</td>\n    </tr>\n    <tr>\n      <th>20</th>\n      <td>21</td>\n      <td>NASA</td>\n      <td>57.3</td>\n      <td>American space agency</td>\n      <td>United States</td>\n    </tr>\n    <tr>\n      <th>21</th>\n      <td>22</td>\n      <td>Neymar</td>\n      <td>56.8</td>\n      <td>Football player</td>\n      <td>Brazil</td>\n    </tr>\n    <tr>\n      <th>22</th>\n      <td>23</td>\n      <td>Britney Spears</td>\n      <td>55.8</td>\n      <td>Musician</td>\n      <td>United States</td>\n    </tr>\n    <tr>\n      <th>23</th>\n      <td>24</td>\n      <td>Demi Lovato</td>\n      <td>54.1</td>\n      <td>Musician and actress</td>\n      <td>United States</td>\n    </tr>\n    <tr>\n      <th>24</th>\n      <td>25</td>\n      <td>The New York Times</td>\n      <td>53.0</td>\n      <td>Newspaper</td>\n      <td>United States</td>\n    </tr>\n    <tr>\n      <th>25</th>\n      <td>26</td>\n      <td>Shakira</td>\n      <td>52.8</td>\n      <td>Musician</td>\n      <td>Colombia</td>\n    </tr>\n    <tr>\n      <th>26</th>\n      <td>27</td>\n      <td>Jimmy Fallon</td>\n      <td>51.4</td>\n      <td>Comedian and television host</td>\n      <td>United States</td>\n    </tr>\n    <tr>\n      <th>27</th>\n      <td>28</td>\n      <td>LeBron James</td>\n      <td>51.3</td>\n      <td>Basketball player</td>\n      <td>United States</td>\n    </tr>\n    <tr>\n      <th>28</th>\n      <td>29</td>\n      <td>BBC Breaking News</td>\n      <td>50.0</td>\n      <td>News channel</td>\n      <td>United Kingdom</td>\n    </tr>\n    <tr>\n      <th>29</th>\n      <td>30</td>\n      <td>PMO India</td>\n      <td>48.4</td>\n      <td>Office of the Prime Minister of India</td>\n      <td>India</td>\n    </tr>\n    <tr>\n      <th>30</th>\n      <td>31</td>\n      <td>Virat Kohli</td>\n      <td>48.1</td>\n      <td>Cricket player</td>\n      <td>India</td>\n    </tr>\n    <tr>\n      <th>31</th>\n      <td>32</td>\n      <td>Amitabh Bachchan</td>\n      <td>47.4</td>\n      <td>Actor</td>\n      <td>India</td>\n    </tr>\n    <tr>\n      <th>32</th>\n      <td>33</td>\n      <td>Miley Cyrus</td>\n      <td>46.7</td>\n      <td>Musician and actress</td>\n      <td>United States</td>\n    </tr>\n    <tr>\n      <th>33</th>\n      <td>34</td>\n      <td>BTS</td>\n      <td>46.0</td>\n      <td>Musicians/K-pop</td>\n      <td>South Korea</td>\n    </tr>\n    <tr>\n      <th>34</th>\n      <td>35</td>\n      <td>Jennifer Lopez</td>\n      <td>45.3</td>\n      <td>Musician and actress</td>\n      <td>United States</td>\n    </tr>\n    <tr>\n      <th>35</th>\n      <td>36</td>\n      <td>Akshay Kumar</td>\n      <td>44.6</td>\n      <td>Actor</td>\n      <td>India</td>\n    </tr>\n    <tr>\n      <th>36</th>\n      <td>37</td>\n      <td>Salman Khan</td>\n      <td>44.1</td>\n      <td>Actor</td>\n      <td>India</td>\n    </tr>\n    <tr>\n      <th>37</th>\n      <td>38</td>\n      <td>Oprah Winfrey</td>\n      <td>43.2</td>\n      <td>Television personality</td>\n      <td>United States</td>\n    </tr>\n    <tr>\n      <th>38</th>\n      <td>39</td>\n      <td>Bruno Mars</td>\n      <td>43.2</td>\n      <td>Musician</td>\n      <td>United States</td>\n    </tr>\n    <tr>\n      <th>39</th>\n      <td>40</td>\n      <td>Shah Rukh Khan</td>\n      <td>42.5</td>\n      <td>Actor</td>\n      <td>India</td>\n    </tr>\n    <tr>\n      <th>40</th>\n      <td>41</td>\n      <td>Real Madrid CF</td>\n      <td>41.8</td>\n      <td>Football club</td>\n      <td>Spain</td>\n    </tr>\n    <tr>\n      <th>41</th>\n      <td>42</td>\n      <td>FC Barcelona</td>\n      <td>41.5</td>\n      <td>Football club</td>\n      <td>Spain</td>\n    </tr>\n    <tr>\n      <th>42</th>\n      <td>43</td>\n      <td>Niall Horan</td>\n      <td>41.3</td>\n      <td>Musician</td>\n      <td>Ireland</td>\n    </tr>\n    <tr>\n      <th>43</th>\n      <td>44</td>\n      <td>UEFA Champions League</td>\n      <td>41.1</td>\n      <td>Football tournament</td>\n      <td>Europe</td>\n    </tr>\n    <tr>\n      <th>44</th>\n      <td>45</td>\n      <td>ESPN</td>\n      <td>40.2</td>\n      <td>Sports channel</td>\n      <td>United States</td>\n    </tr>\n    <tr>\n      <th>45</th>\n      <td>46</td>\n      <td>SportsCenter</td>\n      <td>40.0</td>\n      <td>Sports channel</td>\n      <td>United States</td>\n    </tr>\n    <tr>\n      <th>46</th>\n      <td>47</td>\n      <td>Kylie Jenner</td>\n      <td>39.9</td>\n      <td>Television personality</td>\n      <td>United States</td>\n    </tr>\n    <tr>\n      <th>47</th>\n      <td>48</td>\n      <td>Drake</td>\n      <td>39.5</td>\n      <td>Rapper</td>\n      <td>Canada</td>\n    </tr>\n    <tr>\n      <th>48</th>\n      <td>49</td>\n      <td>BTS</td>\n      <td>39.2</td>\n      <td>Musicians/K-pop</td>\n      <td>South Korea</td>\n    </tr>\n    <tr>\n      <th>49</th>\n      <td>50</td>\n      <td>Harry Styles</td>\n      <td>37.7</td>\n      <td>Musician</td>\n      <td>United Kingdom</td>\n    </tr>\n  </tbody>\n</table>\n</div>"
     },
     "execution_count": 21,
     "metadata": {},
     "output_type": "execute_result"
    }
   ],
   "source": [
    "df.drop('Account username', axis=1)"
   ],
   "metadata": {
    "collapsed": false
   }
  },
  {
   "cell_type": "markdown",
   "source": [
    "### 3.3 Creating Columns"
   ],
   "metadata": {
    "collapsed": false
   }
  },
  {
   "cell_type": "code",
   "execution_count": 22,
   "outputs": [],
   "source": [
    "df['n followers'] = df['Followers (millions)'] * 1000000"
   ],
   "metadata": {
    "collapsed": false
   }
  },
  {
   "cell_type": "code",
   "execution_count": 23,
   "outputs": [
    {
     "data": {
      "text/plain": "   Rank Account username       Account Name  Followers (millions)  \\\n0     1     @BarackObama       Barack Obama                 132.0   \n1     2    @justinbieber      Justin Bieber                 114.2   \n2     3       @katyperry         Katy Perry                 108.8   \n3     4         @rihanna            Rihanna                 106.7   \n4     5       @Cristiano  Cristiano Ronaldo                 100.6   \n\n                                       Occupation         Country  n followers  \n0  44th President of the United States of America   United States  132000000.0  \n1                                        Musician          Canada  114200000.0  \n2                                        Musician   United States  108800000.0  \n3                                        Musician        Barbados  106700000.0  \n4                                 Football player        Portugal  100600000.0  ",
      "text/html": "<div>\n<style scoped>\n    .dataframe tbody tr th:only-of-type {\n        vertical-align: middle;\n    }\n\n    .dataframe tbody tr th {\n        vertical-align: top;\n    }\n\n    .dataframe thead th {\n        text-align: right;\n    }\n</style>\n<table border=\"1\" class=\"dataframe\">\n  <thead>\n    <tr style=\"text-align: right;\">\n      <th></th>\n      <th>Rank</th>\n      <th>Account username</th>\n      <th>Account Name</th>\n      <th>Followers (millions)</th>\n      <th>Occupation</th>\n      <th>Country</th>\n      <th>n followers</th>\n    </tr>\n  </thead>\n  <tbody>\n    <tr>\n      <th>0</th>\n      <td>1</td>\n      <td>@BarackObama</td>\n      <td>Barack Obama</td>\n      <td>132.0</td>\n      <td>44th President of the United States of America</td>\n      <td>United States</td>\n      <td>132000000.0</td>\n    </tr>\n    <tr>\n      <th>1</th>\n      <td>2</td>\n      <td>@justinbieber</td>\n      <td>Justin Bieber</td>\n      <td>114.2</td>\n      <td>Musician</td>\n      <td>Canada</td>\n      <td>114200000.0</td>\n    </tr>\n    <tr>\n      <th>2</th>\n      <td>3</td>\n      <td>@katyperry</td>\n      <td>Katy Perry</td>\n      <td>108.8</td>\n      <td>Musician</td>\n      <td>United States</td>\n      <td>108800000.0</td>\n    </tr>\n    <tr>\n      <th>3</th>\n      <td>4</td>\n      <td>@rihanna</td>\n      <td>Rihanna</td>\n      <td>106.7</td>\n      <td>Musician</td>\n      <td>Barbados</td>\n      <td>106700000.0</td>\n    </tr>\n    <tr>\n      <th>4</th>\n      <td>5</td>\n      <td>@Cristiano</td>\n      <td>Cristiano Ronaldo</td>\n      <td>100.6</td>\n      <td>Football player</td>\n      <td>Portugal</td>\n      <td>100600000.0</td>\n    </tr>\n  </tbody>\n</table>\n</div>"
     },
     "execution_count": 23,
     "metadata": {},
     "output_type": "execute_result"
    }
   ],
   "source": [
    "df.head()"
   ],
   "metadata": {
    "collapsed": false
   }
  },
  {
   "cell_type": "markdown",
   "source": [
    "### 3.4 Updating Columns"
   ],
   "metadata": {
    "collapsed": false
   }
  },
  {
   "cell_type": "code",
   "execution_count": 24,
   "outputs": [],
   "source": [
    "df['n followers'] = 'Followers (millions) * 1000000'"
   ],
   "metadata": {
    "collapsed": false
   }
  },
  {
   "cell_type": "code",
   "execution_count": 25,
   "outputs": [
    {
     "data": {
      "text/plain": "   Rank Account username       Account Name  Followers (millions)  \\\n0     1     @BarackObama       Barack Obama                 132.0   \n1     2    @justinbieber      Justin Bieber                 114.2   \n2     3       @katyperry         Katy Perry                 108.8   \n3     4         @rihanna            Rihanna                 106.7   \n4     5       @Cristiano  Cristiano Ronaldo                 100.6   \n\n                                       Occupation         Country  \\\n0  44th President of the United States of America   United States   \n1                                        Musician          Canada   \n2                                        Musician   United States   \n3                                        Musician        Barbados   \n4                                 Football player        Portugal   \n\n                      n followers  \n0  Followers (millions) * 1000000  \n1  Followers (millions) * 1000000  \n2  Followers (millions) * 1000000  \n3  Followers (millions) * 1000000  \n4  Followers (millions) * 1000000  ",
      "text/html": "<div>\n<style scoped>\n    .dataframe tbody tr th:only-of-type {\n        vertical-align: middle;\n    }\n\n    .dataframe tbody tr th {\n        vertical-align: top;\n    }\n\n    .dataframe thead th {\n        text-align: right;\n    }\n</style>\n<table border=\"1\" class=\"dataframe\">\n  <thead>\n    <tr style=\"text-align: right;\">\n      <th></th>\n      <th>Rank</th>\n      <th>Account username</th>\n      <th>Account Name</th>\n      <th>Followers (millions)</th>\n      <th>Occupation</th>\n      <th>Country</th>\n      <th>n followers</th>\n    </tr>\n  </thead>\n  <tbody>\n    <tr>\n      <th>0</th>\n      <td>1</td>\n      <td>@BarackObama</td>\n      <td>Barack Obama</td>\n      <td>132.0</td>\n      <td>44th President of the United States of America</td>\n      <td>United States</td>\n      <td>Followers (millions) * 1000000</td>\n    </tr>\n    <tr>\n      <th>1</th>\n      <td>2</td>\n      <td>@justinbieber</td>\n      <td>Justin Bieber</td>\n      <td>114.2</td>\n      <td>Musician</td>\n      <td>Canada</td>\n      <td>Followers (millions) * 1000000</td>\n    </tr>\n    <tr>\n      <th>2</th>\n      <td>3</td>\n      <td>@katyperry</td>\n      <td>Katy Perry</td>\n      <td>108.8</td>\n      <td>Musician</td>\n      <td>United States</td>\n      <td>Followers (millions) * 1000000</td>\n    </tr>\n    <tr>\n      <th>3</th>\n      <td>4</td>\n      <td>@rihanna</td>\n      <td>Rihanna</td>\n      <td>106.7</td>\n      <td>Musician</td>\n      <td>Barbados</td>\n      <td>Followers (millions) * 1000000</td>\n    </tr>\n    <tr>\n      <th>4</th>\n      <td>5</td>\n      <td>@Cristiano</td>\n      <td>Cristiano Ronaldo</td>\n      <td>100.6</td>\n      <td>Football player</td>\n      <td>Portugal</td>\n      <td>Followers (millions) * 1000000</td>\n    </tr>\n  </tbody>\n</table>\n</div>"
     },
     "execution_count": 25,
     "metadata": {},
     "output_type": "execute_result"
    }
   ],
   "source": [
    "df.head()"
   ],
   "metadata": {
    "collapsed": false
   }
  },
  {
   "cell_type": "markdown",
   "source": [
    "### 3.5 Updating a Single Value"
   ],
   "metadata": {
    "collapsed": false
   }
  },
  {
   "cell_type": "code",
   "execution_count": 26,
   "outputs": [],
   "source": [
    "df.iloc[0,3] = 'THE MOST'"
   ],
   "metadata": {
    "collapsed": false
   }
  },
  {
   "cell_type": "code",
   "execution_count": 27,
   "outputs": [
    {
     "data": {
      "text/plain": "   Rank Account username       Account Name Followers (millions)  \\\n0     1     @BarackObama       Barack Obama             THE MOST   \n1     2    @justinbieber      Justin Bieber                114.2   \n2     3       @katyperry         Katy Perry                108.8   \n3     4         @rihanna            Rihanna                106.7   \n4     5       @Cristiano  Cristiano Ronaldo                100.6   \n\n                                       Occupation         Country  \\\n0  44th President of the United States of America   United States   \n1                                        Musician          Canada   \n2                                        Musician   United States   \n3                                        Musician        Barbados   \n4                                 Football player        Portugal   \n\n                      n followers  \n0  Followers (millions) * 1000000  \n1  Followers (millions) * 1000000  \n2  Followers (millions) * 1000000  \n3  Followers (millions) * 1000000  \n4  Followers (millions) * 1000000  ",
      "text/html": "<div>\n<style scoped>\n    .dataframe tbody tr th:only-of-type {\n        vertical-align: middle;\n    }\n\n    .dataframe tbody tr th {\n        vertical-align: top;\n    }\n\n    .dataframe thead th {\n        text-align: right;\n    }\n</style>\n<table border=\"1\" class=\"dataframe\">\n  <thead>\n    <tr style=\"text-align: right;\">\n      <th></th>\n      <th>Rank</th>\n      <th>Account username</th>\n      <th>Account Name</th>\n      <th>Followers (millions)</th>\n      <th>Occupation</th>\n      <th>Country</th>\n      <th>n followers</th>\n    </tr>\n  </thead>\n  <tbody>\n    <tr>\n      <th>0</th>\n      <td>1</td>\n      <td>@BarackObama</td>\n      <td>Barack Obama</td>\n      <td>THE MOST</td>\n      <td>44th President of the United States of America</td>\n      <td>United States</td>\n      <td>Followers (millions) * 1000000</td>\n    </tr>\n    <tr>\n      <th>1</th>\n      <td>2</td>\n      <td>@justinbieber</td>\n      <td>Justin Bieber</td>\n      <td>114.2</td>\n      <td>Musician</td>\n      <td>Canada</td>\n      <td>Followers (millions) * 1000000</td>\n    </tr>\n    <tr>\n      <th>2</th>\n      <td>3</td>\n      <td>@katyperry</td>\n      <td>Katy Perry</td>\n      <td>108.8</td>\n      <td>Musician</td>\n      <td>United States</td>\n      <td>Followers (millions) * 1000000</td>\n    </tr>\n    <tr>\n      <th>3</th>\n      <td>4</td>\n      <td>@rihanna</td>\n      <td>Rihanna</td>\n      <td>106.7</td>\n      <td>Musician</td>\n      <td>Barbados</td>\n      <td>Followers (millions) * 1000000</td>\n    </tr>\n    <tr>\n      <th>4</th>\n      <td>5</td>\n      <td>@Cristiano</td>\n      <td>Cristiano Ronaldo</td>\n      <td>100.6</td>\n      <td>Football player</td>\n      <td>Portugal</td>\n      <td>Followers (millions) * 1000000</td>\n    </tr>\n  </tbody>\n</table>\n</div>"
     },
     "execution_count": 27,
     "metadata": {},
     "output_type": "execute_result"
    }
   ],
   "source": [
    "df.head()"
   ],
   "metadata": {
    "collapsed": false
   }
  },
  {
   "cell_type": "markdown",
   "source": [
    "### Condition based Updating using Apply"
   ],
   "metadata": {
    "collapsed": false
   }
  },
  {
   "cell_type": "code",
   "execution_count": 33,
   "outputs": [
    {
     "data": {
      "text/plain": "'\\xa0United States'"
     },
     "execution_count": 33,
     "metadata": {},
     "output_type": "execute_result"
    }
   ],
   "source": [
    "df.iloc[0,5]"
   ],
   "metadata": {
    "collapsed": false
   }
  },
  {
   "cell_type": "code",
   "execution_count": 34,
   "outputs": [],
   "source": [
    "df['American'] = df['Country'].apply(lambda x : 1 if x=='\\xa0United States' else 0)"
   ],
   "metadata": {
    "collapsed": false
   }
  },
  {
   "cell_type": "code",
   "execution_count": 35,
   "outputs": [
    {
     "data": {
      "text/plain": "   Rank     Account username  Account Name Followers (millions)  \\\n0     1         @BarackObama  Barack Obama             THE MOST   \n2     3           @katyperry    Katy Perry                108.8   \n5     6            @elonmusk     Elon Musk                 96.2   \n6     7       @taylorswift13  Taylor Swift                 90.3   \n7     8  @realDonaldTrump[3]  Donald Trump                 88.8   \n\n                                       Occupation         Country  \\\n0  44th President of the United States of America   United States   \n2                                        Musician   United States   \n5                   Engineer and Business magnate   United States   \n6                                        Musician   United States   \n7  45th President of the United States of America   United States   \n\n                      n followers  American  \n0  Followers (millions) * 1000000         1  \n2  Followers (millions) * 1000000         1  \n5  Followers (millions) * 1000000         1  \n6  Followers (millions) * 1000000         1  \n7  Followers (millions) * 1000000         1  ",
      "text/html": "<div>\n<style scoped>\n    .dataframe tbody tr th:only-of-type {\n        vertical-align: middle;\n    }\n\n    .dataframe tbody tr th {\n        vertical-align: top;\n    }\n\n    .dataframe thead th {\n        text-align: right;\n    }\n</style>\n<table border=\"1\" class=\"dataframe\">\n  <thead>\n    <tr style=\"text-align: right;\">\n      <th></th>\n      <th>Rank</th>\n      <th>Account username</th>\n      <th>Account Name</th>\n      <th>Followers (millions)</th>\n      <th>Occupation</th>\n      <th>Country</th>\n      <th>n followers</th>\n      <th>American</th>\n    </tr>\n  </thead>\n  <tbody>\n    <tr>\n      <th>0</th>\n      <td>1</td>\n      <td>@BarackObama</td>\n      <td>Barack Obama</td>\n      <td>THE MOST</td>\n      <td>44th President of the United States of America</td>\n      <td>United States</td>\n      <td>Followers (millions) * 1000000</td>\n      <td>1</td>\n    </tr>\n    <tr>\n      <th>2</th>\n      <td>3</td>\n      <td>@katyperry</td>\n      <td>Katy Perry</td>\n      <td>108.8</td>\n      <td>Musician</td>\n      <td>United States</td>\n      <td>Followers (millions) * 1000000</td>\n      <td>1</td>\n    </tr>\n    <tr>\n      <th>5</th>\n      <td>6</td>\n      <td>@elonmusk</td>\n      <td>Elon Musk</td>\n      <td>96.2</td>\n      <td>Engineer and Business magnate</td>\n      <td>United States</td>\n      <td>Followers (millions) * 1000000</td>\n      <td>1</td>\n    </tr>\n    <tr>\n      <th>6</th>\n      <td>7</td>\n      <td>@taylorswift13</td>\n      <td>Taylor Swift</td>\n      <td>90.3</td>\n      <td>Musician</td>\n      <td>United States</td>\n      <td>Followers (millions) * 1000000</td>\n      <td>1</td>\n    </tr>\n    <tr>\n      <th>7</th>\n      <td>8</td>\n      <td>@realDonaldTrump[3]</td>\n      <td>Donald Trump</td>\n      <td>88.8</td>\n      <td>45th President of the United States of America</td>\n      <td>United States</td>\n      <td>Followers (millions) * 1000000</td>\n      <td>1</td>\n    </tr>\n  </tbody>\n</table>\n</div>"
     },
     "execution_count": 35,
     "metadata": {},
     "output_type": "execute_result"
    }
   ],
   "source": [
    "df[df['American']==True].head()"
   ],
   "metadata": {
    "collapsed": false
   }
  },
  {
   "cell_type": "markdown",
   "source": [
    "## 4. Delete/Output"
   ],
   "metadata": {
    "collapsed": false
   }
  },
  {
   "cell_type": "markdown",
   "source": [
    "### 4.1 Output to CSV"
   ],
   "metadata": {
    "collapsed": false
   }
  },
  {
   "cell_type": "code",
   "execution_count": 36,
   "outputs": [],
   "source": [
    "df.to_csv('output.csv')"
   ],
   "metadata": {
    "collapsed": false
   }
  },
  {
   "cell_type": "markdown",
   "source": [
    "### 4.2 Output to JSON"
   ],
   "metadata": {
    "collapsed": false
   }
  },
  {
   "cell_type": "code",
   "execution_count": 37,
   "outputs": [
    {
     "data": {
      "text/plain": "'{\"Rank\":{\"0\":1,\"1\":2,\"2\":3,\"3\":4,\"4\":5,\"5\":6,\"6\":7,\"7\":8,\"8\":9,\"9\":10,\"10\":11,\"11\":12,\"12\":13,\"13\":14,\"14\":15,\"15\":16,\"16\":17,\"17\":18,\"18\":19,\"19\":20,\"20\":21,\"21\":22,\"22\":23,\"23\":24,\"24\":25,\"25\":26,\"26\":27,\"27\":28,\"28\":29,\"29\":30,\"30\":31,\"31\":32,\"32\":33,\"33\":34,\"34\":35,\"35\":36,\"36\":37,\"37\":38,\"38\":39,\"39\":40,\"40\":41,\"41\":42,\"42\":43,\"43\":44,\"44\":45,\"45\":46,\"46\":47,\"47\":48,\"48\":49,\"49\":50},\"Account username\":{\"0\":\"@BarackObama\",\"1\":\"@justinbieber\",\"2\":\"@katyperry\",\"3\":\"@rihanna\",\"4\":\"@Cristiano\",\"5\":\"@elonmusk\",\"6\":\"@taylorswift13\",\"7\":\"@realDonaldTrump[3]\",\"8\":\"@ArianaGrande[4]\",\"9\":\"@ladygaga\",\"10\":\"@narendramodi\",\"11\":\"@TheEllenShow\",\"12\":\"@YouTube\",\"13\":\"@KimKardashian\",\"14\":\"@selenagomez\",\"15\":\"@jtimberlake\",\"16\":\"@cnnbrk\",\"17\":\"@Twitter[a]\",\"18\":\"@BillGates\",\"19\":\"@CNN\",\"20\":\"@NASA\",\"21\":\"@neymarjr\",\"22\":\"@britneyspears\",\"23\":\"@ddlovato\",\"24\":\"@nytimes\",\"25\":\"@shakira\",\"26\":\"@jimmyfallon\",\"27\":\"@kingjames\",\"28\":\"@bbcbreaking\",\"29\":\"@pmoindia\",\"30\":\"@imvkohli\",\"31\":\"@srbachchan\",\"32\":\"@MileyCyrus\",\"33\":\"@bts_twt\",\"34\":\"@JLo\",\"35\":\"@akshaykumar\",\"36\":\"@beingsalmankhan\",\"37\":\"@oprah\",\"38\":\"@brunomars\",\"39\":\"@iamsrk\",\"40\":\"@realmadrid\",\"41\":\"@fcbarcelona\",\"42\":\"@niallofficial\",\"43\":\"@championsleague\",\"44\":\"@espn\",\"45\":\"@sportscenter\",\"46\":\"@KylieJenner\",\"47\":\"@drake\",\"48\":\"@bts_bighit\",\"49\":\"@Harry_Styles\"},\"Account Name\":{\"0\":\"Barack Obama\",\"1\":\"Justin Bieber\",\"2\":\"Katy Perry\",\"3\":\"Rihanna\",\"4\":\"Cristiano Ronaldo\",\"5\":\"Elon Musk\",\"6\":\"Taylor Swift\",\"7\":\"Donald Trump\",\"8\":\"Ariana Grande\",\"9\":\"Lady Gaga\",\"10\":\"Narendra Modi\",\"11\":\"Ellen DeGeneres\",\"12\":\"YouTube\",\"13\":\"Kim Kardashian\",\"14\":\"Selena Gomez\",\"15\":\"Justin Timberlake\",\"16\":\"CNN Breaking News\",\"17\":\"Twitter\",\"18\":\"Bill Gates\",\"19\":\"CNN\",\"20\":\"NASA\",\"21\":\"Neymar\",\"22\":\"Britney Spears\",\"23\":\"Demi Lovato\",\"24\":\"The New York Times\",\"25\":\"Shakira\",\"26\":\"Jimmy Fallon\",\"27\":\"LeBron James\",\"28\":\"BBC Breaking News\",\"29\":\"PMO India\",\"30\":\"Virat Kohli\",\"31\":\"Amitabh Bachchan\",\"32\":\"Miley Cyrus\",\"33\":\"BTS\",\"34\":\"Jennifer Lopez\",\"35\":\"Akshay Kumar\",\"36\":\"Salman Khan\",\"37\":\"Oprah Winfrey\",\"38\":\"Bruno Mars\",\"39\":\"Shah Rukh Khan\",\"40\":\"Real Madrid CF\",\"41\":\"FC Barcelona\",\"42\":\"Niall Horan\",\"43\":\"UEFA Champions League\",\"44\":\"ESPN\",\"45\":\"SportsCenter\",\"46\":\"Kylie Jenner\",\"47\":\"Drake\",\"48\":\"BTS\",\"49\":\"Harry Styles\"},\"Followers (millions)\":{\"0\":\"THE MOST\",\"1\":114.2,\"2\":108.8,\"3\":106.7,\"4\":100.6,\"5\":96.2,\"6\":90.3,\"7\":88.8,\"8\":85.3,\"9\":84.7,\"10\":79.3,\"11\":77.5,\"12\":75.2,\"13\":72.5,\"14\":65.8,\"15\":63.1,\"16\":63.1,\"17\":61.8,\"18\":59.1,\"19\":58.2,\"20\":57.3,\"21\":56.8,\"22\":55.8,\"23\":54.1,\"24\":53.0,\"25\":52.8,\"26\":51.4,\"27\":51.3,\"28\":50.0,\"29\":48.4,\"30\":48.1,\"31\":47.4,\"32\":46.7,\"33\":46.0,\"34\":45.3,\"35\":44.6,\"36\":44.1,\"37\":43.2,\"38\":43.2,\"39\":42.5,\"40\":41.8,\"41\":41.5,\"42\":41.3,\"43\":41.1,\"44\":40.2,\"45\":40.0,\"46\":39.9,\"47\":39.5,\"48\":39.2,\"49\":37.7},\"Occupation\":{\"0\":\"44th President of the United States of America\",\"1\":\"Musician\",\"2\":\"Musician\",\"3\":\"Musician\",\"4\":\"Football player\",\"5\":\"Engineer and Business magnate\",\"6\":\"Musician\",\"7\":\"45th President of the United States of America\",\"8\":\"Musician and actress\",\"9\":\"Musician and actress\",\"10\":\"Prime Minister of India\",\"11\":\"Comedian and television host\",\"12\":\"Online video sharing platform\",\"13\":\"Television personality\",\"14\":\"Musician and actress\",\"15\":\"Musician and actor\",\"16\":\"News channel\",\"17\":\"Social media platform\",\"18\":\"Businessman and philanthropist\",\"19\":\"News channel\",\"20\":\"American space agency\",\"21\":\"Football player\",\"22\":\"Musician\",\"23\":\"Musician and actress\",\"24\":\"Newspaper\",\"25\":\"Musician\",\"26\":\"Comedian and television host\",\"27\":\"Basketball player\",\"28\":\"News channel\",\"29\":\"Office of the Prime Minister of India\",\"30\":\"Cricket player\",\"31\":\"Actor\",\"32\":\"Musician and actress\",\"33\":\"Musicians\\\\/K-pop\",\"34\":\"Musician and actress\",\"35\":\"Actor\",\"36\":\"Actor\",\"37\":\"Television personality\",\"38\":\"Musician\",\"39\":\"Actor\",\"40\":\"Football club\",\"41\":\"Football club\",\"42\":\"Musician\",\"43\":\"Football tournament\",\"44\":\"Sports channel\",\"45\":\"Sports channel\",\"46\":\"Television personality\",\"47\":\"Rapper\",\"48\":\"Musicians\\\\/K-pop\",\"49\":\"Musician\"},\"Country\":{\"0\":\"\\\\u00a0United States\",\"1\":\"\\\\u00a0Canada\",\"2\":\"\\\\u00a0United States\",\"3\":\"\\\\u00a0Barbados\",\"4\":\"\\\\u00a0Portugal\",\"5\":\"\\\\u00a0United States\",\"6\":\"\\\\u00a0United States\",\"7\":\"\\\\u00a0United States\",\"8\":\"\\\\u00a0United States\",\"9\":\"\\\\u00a0United States\",\"10\":\"\\\\u00a0India\",\"11\":\"\\\\u00a0United States\",\"12\":\"\\\\u00a0United States\",\"13\":\"\\\\u00a0United States\",\"14\":\"\\\\u00a0United States\",\"15\":\"\\\\u00a0United States\",\"16\":\"\\\\u00a0United States\",\"17\":\"\\\\u00a0United States\",\"18\":\"\\\\u00a0United States\",\"19\":\"\\\\u00a0United States\",\"20\":\"\\\\u00a0United States\",\"21\":\"\\\\u00a0Brazil\",\"22\":\"\\\\u00a0United States\",\"23\":\"\\\\u00a0United States\",\"24\":\"\\\\u00a0United States\",\"25\":\"\\\\u00a0Colombia\",\"26\":\"\\\\u00a0United States\",\"27\":\"\\\\u00a0United States\",\"28\":\"\\\\u00a0United Kingdom\",\"29\":\"\\\\u00a0India\",\"30\":\"\\\\u00a0India\",\"31\":\"\\\\u00a0India\",\"32\":\"\\\\u00a0United States\",\"33\":\"\\\\u00a0South Korea\",\"34\":\"\\\\u00a0United States\",\"35\":\"\\\\u00a0India\",\"36\":\"\\\\u00a0India\",\"37\":\"\\\\u00a0United States\",\"38\":\"\\\\u00a0United States\",\"39\":\"\\\\u00a0India\",\"40\":\"\\\\u00a0Spain\",\"41\":\"\\\\u00a0Spain\",\"42\":\"\\\\u00a0Ireland\",\"43\":\"\\\\u00a0Europe\",\"44\":\"\\\\u00a0United States\",\"45\":\"\\\\u00a0United States\",\"46\":\"\\\\u00a0United States\",\"47\":\"\\\\u00a0Canada\",\"48\":\"\\\\u00a0South Korea\",\"49\":\"\\\\u00a0United Kingdom\"},\"n followers\":{\"0\":\"Followers (millions) * 1000000\",\"1\":\"Followers (millions) * 1000000\",\"2\":\"Followers (millions) * 1000000\",\"3\":\"Followers (millions) * 1000000\",\"4\":\"Followers (millions) * 1000000\",\"5\":\"Followers (millions) * 1000000\",\"6\":\"Followers (millions) * 1000000\",\"7\":\"Followers (millions) * 1000000\",\"8\":\"Followers (millions) * 1000000\",\"9\":\"Followers (millions) * 1000000\",\"10\":\"Followers (millions) * 1000000\",\"11\":\"Followers (millions) * 1000000\",\"12\":\"Followers (millions) * 1000000\",\"13\":\"Followers (millions) * 1000000\",\"14\":\"Followers (millions) * 1000000\",\"15\":\"Followers (millions) * 1000000\",\"16\":\"Followers (millions) * 1000000\",\"17\":\"Followers (millions) * 1000000\",\"18\":\"Followers (millions) * 1000000\",\"19\":\"Followers (millions) * 1000000\",\"20\":\"Followers (millions) * 1000000\",\"21\":\"Followers (millions) * 1000000\",\"22\":\"Followers (millions) * 1000000\",\"23\":\"Followers (millions) * 1000000\",\"24\":\"Followers (millions) * 1000000\",\"25\":\"Followers (millions) * 1000000\",\"26\":\"Followers (millions) * 1000000\",\"27\":\"Followers (millions) * 1000000\",\"28\":\"Followers (millions) * 1000000\",\"29\":\"Followers (millions) * 1000000\",\"30\":\"Followers (millions) * 1000000\",\"31\":\"Followers (millions) * 1000000\",\"32\":\"Followers (millions) * 1000000\",\"33\":\"Followers (millions) * 1000000\",\"34\":\"Followers (millions) * 1000000\",\"35\":\"Followers (millions) * 1000000\",\"36\":\"Followers (millions) * 1000000\",\"37\":\"Followers (millions) * 1000000\",\"38\":\"Followers (millions) * 1000000\",\"39\":\"Followers (millions) * 1000000\",\"40\":\"Followers (millions) * 1000000\",\"41\":\"Followers (millions) * 1000000\",\"42\":\"Followers (millions) * 1000000\",\"43\":\"Followers (millions) * 1000000\",\"44\":\"Followers (millions) * 1000000\",\"45\":\"Followers (millions) * 1000000\",\"46\":\"Followers (millions) * 1000000\",\"47\":\"Followers (millions) * 1000000\",\"48\":\"Followers (millions) * 1000000\",\"49\":\"Followers (millions) * 1000000\"},\"American\":{\"0\":1,\"1\":0,\"2\":1,\"3\":0,\"4\":0,\"5\":1,\"6\":1,\"7\":1,\"8\":1,\"9\":1,\"10\":0,\"11\":1,\"12\":1,\"13\":1,\"14\":1,\"15\":1,\"16\":1,\"17\":1,\"18\":1,\"19\":1,\"20\":1,\"21\":0,\"22\":1,\"23\":1,\"24\":1,\"25\":0,\"26\":1,\"27\":1,\"28\":0,\"29\":0,\"30\":0,\"31\":0,\"32\":1,\"33\":0,\"34\":1,\"35\":0,\"36\":0,\"37\":1,\"38\":1,\"39\":0,\"40\":0,\"41\":0,\"42\":0,\"43\":0,\"44\":1,\"45\":1,\"46\":1,\"47\":0,\"48\":0,\"49\":0}}'"
     },
     "execution_count": 37,
     "metadata": {},
     "output_type": "execute_result"
    }
   ],
   "source": [
    "df.to_json()"
   ],
   "metadata": {
    "collapsed": false
   }
  },
  {
   "cell_type": "markdown",
   "source": [
    "### 4.3 Output to HTML"
   ],
   "metadata": {
    "collapsed": false
   }
  },
  {
   "cell_type": "code",
   "execution_count": 38,
   "outputs": [
    {
     "data": {
      "text/plain": "'<table border=\"1\" class=\"dataframe\">\\n  <thead>\\n    <tr style=\"text-align: right;\">\\n      <th></th>\\n      <th>Rank</th>\\n      <th>Account username</th>\\n      <th>Account Name</th>\\n      <th>Followers (millions)</th>\\n      <th>Occupation</th>\\n      <th>Country</th>\\n      <th>n followers</th>\\n      <th>American</th>\\n    </tr>\\n  </thead>\\n  <tbody>\\n    <tr>\\n      <th>0</th>\\n      <td>1</td>\\n      <td>@BarackObama</td>\\n      <td>Barack Obama</td>\\n      <td>THE MOST</td>\\n      <td>44th President of the United States of America</td>\\n      <td>United States</td>\\n      <td>Followers (millions) * 1000000</td>\\n      <td>1</td>\\n    </tr>\\n    <tr>\\n      <th>1</th>\\n      <td>2</td>\\n      <td>@justinbieber</td>\\n      <td>Justin Bieber</td>\\n      <td>114.2</td>\\n      <td>Musician</td>\\n      <td>Canada</td>\\n      <td>Followers (millions) * 1000000</td>\\n      <td>0</td>\\n    </tr>\\n    <tr>\\n      <th>2</th>\\n      <td>3</td>\\n      <td>@katyperry</td>\\n      <td>Katy Perry</td>\\n      <td>108.8</td>\\n      <td>Musician</td>\\n      <td>United States</td>\\n      <td>Followers (millions) * 1000000</td>\\n      <td>1</td>\\n    </tr>\\n    <tr>\\n      <th>3</th>\\n      <td>4</td>\\n      <td>@rihanna</td>\\n      <td>Rihanna</td>\\n      <td>106.7</td>\\n      <td>Musician</td>\\n      <td>Barbados</td>\\n      <td>Followers (millions) * 1000000</td>\\n      <td>0</td>\\n    </tr>\\n    <tr>\\n      <th>4</th>\\n      <td>5</td>\\n      <td>@Cristiano</td>\\n      <td>Cristiano Ronaldo</td>\\n      <td>100.6</td>\\n      <td>Football player</td>\\n      <td>Portugal</td>\\n      <td>Followers (millions) * 1000000</td>\\n      <td>0</td>\\n    </tr>\\n    <tr>\\n      <th>5</th>\\n      <td>6</td>\\n      <td>@elonmusk</td>\\n      <td>Elon Musk</td>\\n      <td>96.2</td>\\n      <td>Engineer and Business magnate</td>\\n      <td>United States</td>\\n      <td>Followers (millions) * 1000000</td>\\n      <td>1</td>\\n    </tr>\\n    <tr>\\n      <th>6</th>\\n      <td>7</td>\\n      <td>@taylorswift13</td>\\n      <td>Taylor Swift</td>\\n      <td>90.3</td>\\n      <td>Musician</td>\\n      <td>United States</td>\\n      <td>Followers (millions) * 1000000</td>\\n      <td>1</td>\\n    </tr>\\n    <tr>\\n      <th>7</th>\\n      <td>8</td>\\n      <td>@realDonaldTrump[3]</td>\\n      <td>Donald Trump</td>\\n      <td>88.8</td>\\n      <td>45th President of the United States of America</td>\\n      <td>United States</td>\\n      <td>Followers (millions) * 1000000</td>\\n      <td>1</td>\\n    </tr>\\n    <tr>\\n      <th>8</th>\\n      <td>9</td>\\n      <td>@ArianaGrande[4]</td>\\n      <td>Ariana Grande</td>\\n      <td>85.3</td>\\n      <td>Musician and actress</td>\\n      <td>United States</td>\\n      <td>Followers (millions) * 1000000</td>\\n      <td>1</td>\\n    </tr>\\n    <tr>\\n      <th>9</th>\\n      <td>10</td>\\n      <td>@ladygaga</td>\\n      <td>Lady Gaga</td>\\n      <td>84.7</td>\\n      <td>Musician and actress</td>\\n      <td>United States</td>\\n      <td>Followers (millions) * 1000000</td>\\n      <td>1</td>\\n    </tr>\\n    <tr>\\n      <th>10</th>\\n      <td>11</td>\\n      <td>@narendramodi</td>\\n      <td>Narendra Modi</td>\\n      <td>79.3</td>\\n      <td>Prime Minister of India</td>\\n      <td>India</td>\\n      <td>Followers (millions) * 1000000</td>\\n      <td>0</td>\\n    </tr>\\n    <tr>\\n      <th>11</th>\\n      <td>12</td>\\n      <td>@TheEllenShow</td>\\n      <td>Ellen DeGeneres</td>\\n      <td>77.5</td>\\n      <td>Comedian and television host</td>\\n      <td>United States</td>\\n      <td>Followers (millions) * 1000000</td>\\n      <td>1</td>\\n    </tr>\\n    <tr>\\n      <th>12</th>\\n      <td>13</td>\\n      <td>@YouTube</td>\\n      <td>YouTube</td>\\n      <td>75.2</td>\\n      <td>Online video sharing platform</td>\\n      <td>United States</td>\\n      <td>Followers (millions) * 1000000</td>\\n      <td>1</td>\\n    </tr>\\n    <tr>\\n      <th>13</th>\\n      <td>14</td>\\n      <td>@KimKardashian</td>\\n      <td>Kim Kardashian</td>\\n      <td>72.5</td>\\n      <td>Television personality</td>\\n      <td>United States</td>\\n      <td>Followers (millions) * 1000000</td>\\n      <td>1</td>\\n    </tr>\\n    <tr>\\n      <th>14</th>\\n      <td>15</td>\\n      <td>@selenagomez</td>\\n      <td>Selena Gomez</td>\\n      <td>65.8</td>\\n      <td>Musician and actress</td>\\n      <td>United States</td>\\n      <td>Followers (millions) * 1000000</td>\\n      <td>1</td>\\n    </tr>\\n    <tr>\\n      <th>15</th>\\n      <td>16</td>\\n      <td>@jtimberlake</td>\\n      <td>Justin Timberlake</td>\\n      <td>63.1</td>\\n      <td>Musician and actor</td>\\n      <td>United States</td>\\n      <td>Followers (millions) * 1000000</td>\\n      <td>1</td>\\n    </tr>\\n    <tr>\\n      <th>16</th>\\n      <td>17</td>\\n      <td>@cnnbrk</td>\\n      <td>CNN Breaking News</td>\\n      <td>63.1</td>\\n      <td>News channel</td>\\n      <td>United States</td>\\n      <td>Followers (millions) * 1000000</td>\\n      <td>1</td>\\n    </tr>\\n    <tr>\\n      <th>17</th>\\n      <td>18</td>\\n      <td>@Twitter[a]</td>\\n      <td>Twitter</td>\\n      <td>61.8</td>\\n      <td>Social media platform</td>\\n      <td>United States</td>\\n      <td>Followers (millions) * 1000000</td>\\n      <td>1</td>\\n    </tr>\\n    <tr>\\n      <th>18</th>\\n      <td>19</td>\\n      <td>@BillGates</td>\\n      <td>Bill Gates</td>\\n      <td>59.1</td>\\n      <td>Businessman and philanthropist</td>\\n      <td>United States</td>\\n      <td>Followers (millions) * 1000000</td>\\n      <td>1</td>\\n    </tr>\\n    <tr>\\n      <th>19</th>\\n      <td>20</td>\\n      <td>@CNN</td>\\n      <td>CNN</td>\\n      <td>58.2</td>\\n      <td>News channel</td>\\n      <td>United States</td>\\n      <td>Followers (millions) * 1000000</td>\\n      <td>1</td>\\n    </tr>\\n    <tr>\\n      <th>20</th>\\n      <td>21</td>\\n      <td>@NASA</td>\\n      <td>NASA</td>\\n      <td>57.3</td>\\n      <td>American space agency</td>\\n      <td>United States</td>\\n      <td>Followers (millions) * 1000000</td>\\n      <td>1</td>\\n    </tr>\\n    <tr>\\n      <th>21</th>\\n      <td>22</td>\\n      <td>@neymarjr</td>\\n      <td>Neymar</td>\\n      <td>56.8</td>\\n      <td>Football player</td>\\n      <td>Brazil</td>\\n      <td>Followers (millions) * 1000000</td>\\n      <td>0</td>\\n    </tr>\\n    <tr>\\n      <th>22</th>\\n      <td>23</td>\\n      <td>@britneyspears</td>\\n      <td>Britney Spears</td>\\n      <td>55.8</td>\\n      <td>Musician</td>\\n      <td>United States</td>\\n      <td>Followers (millions) * 1000000</td>\\n      <td>1</td>\\n    </tr>\\n    <tr>\\n      <th>23</th>\\n      <td>24</td>\\n      <td>@ddlovato</td>\\n      <td>Demi Lovato</td>\\n      <td>54.1</td>\\n      <td>Musician and actress</td>\\n      <td>United States</td>\\n      <td>Followers (millions) * 1000000</td>\\n      <td>1</td>\\n    </tr>\\n    <tr>\\n      <th>24</th>\\n      <td>25</td>\\n      <td>@nytimes</td>\\n      <td>The New York Times</td>\\n      <td>53.0</td>\\n      <td>Newspaper</td>\\n      <td>United States</td>\\n      <td>Followers (millions) * 1000000</td>\\n      <td>1</td>\\n    </tr>\\n    <tr>\\n      <th>25</th>\\n      <td>26</td>\\n      <td>@shakira</td>\\n      <td>Shakira</td>\\n      <td>52.8</td>\\n      <td>Musician</td>\\n      <td>Colombia</td>\\n      <td>Followers (millions) * 1000000</td>\\n      <td>0</td>\\n    </tr>\\n    <tr>\\n      <th>26</th>\\n      <td>27</td>\\n      <td>@jimmyfallon</td>\\n      <td>Jimmy Fallon</td>\\n      <td>51.4</td>\\n      <td>Comedian and television host</td>\\n      <td>United States</td>\\n      <td>Followers (millions) * 1000000</td>\\n      <td>1</td>\\n    </tr>\\n    <tr>\\n      <th>27</th>\\n      <td>28</td>\\n      <td>@kingjames</td>\\n      <td>LeBron James</td>\\n      <td>51.3</td>\\n      <td>Basketball player</td>\\n      <td>United States</td>\\n      <td>Followers (millions) * 1000000</td>\\n      <td>1</td>\\n    </tr>\\n    <tr>\\n      <th>28</th>\\n      <td>29</td>\\n      <td>@bbcbreaking</td>\\n      <td>BBC Breaking News</td>\\n      <td>50.0</td>\\n      <td>News channel</td>\\n      <td>United Kingdom</td>\\n      <td>Followers (millions) * 1000000</td>\\n      <td>0</td>\\n    </tr>\\n    <tr>\\n      <th>29</th>\\n      <td>30</td>\\n      <td>@pmoindia</td>\\n      <td>PMO India</td>\\n      <td>48.4</td>\\n      <td>Office of the Prime Minister of India</td>\\n      <td>India</td>\\n      <td>Followers (millions) * 1000000</td>\\n      <td>0</td>\\n    </tr>\\n    <tr>\\n      <th>30</th>\\n      <td>31</td>\\n      <td>@imvkohli</td>\\n      <td>Virat Kohli</td>\\n      <td>48.1</td>\\n      <td>Cricket player</td>\\n      <td>India</td>\\n      <td>Followers (millions) * 1000000</td>\\n      <td>0</td>\\n    </tr>\\n    <tr>\\n      <th>31</th>\\n      <td>32</td>\\n      <td>@srbachchan</td>\\n      <td>Amitabh Bachchan</td>\\n      <td>47.4</td>\\n      <td>Actor</td>\\n      <td>India</td>\\n      <td>Followers (millions) * 1000000</td>\\n      <td>0</td>\\n    </tr>\\n    <tr>\\n      <th>32</th>\\n      <td>33</td>\\n      <td>@MileyCyrus</td>\\n      <td>Miley Cyrus</td>\\n      <td>46.7</td>\\n      <td>Musician and actress</td>\\n      <td>United States</td>\\n      <td>Followers (millions) * 1000000</td>\\n      <td>1</td>\\n    </tr>\\n    <tr>\\n      <th>33</th>\\n      <td>34</td>\\n      <td>@bts_twt</td>\\n      <td>BTS</td>\\n      <td>46.0</td>\\n      <td>Musicians/K-pop</td>\\n      <td>South Korea</td>\\n      <td>Followers (millions) * 1000000</td>\\n      <td>0</td>\\n    </tr>\\n    <tr>\\n      <th>34</th>\\n      <td>35</td>\\n      <td>@JLo</td>\\n      <td>Jennifer Lopez</td>\\n      <td>45.3</td>\\n      <td>Musician and actress</td>\\n      <td>United States</td>\\n      <td>Followers (millions) * 1000000</td>\\n      <td>1</td>\\n    </tr>\\n    <tr>\\n      <th>35</th>\\n      <td>36</td>\\n      <td>@akshaykumar</td>\\n      <td>Akshay Kumar</td>\\n      <td>44.6</td>\\n      <td>Actor</td>\\n      <td>India</td>\\n      <td>Followers (millions) * 1000000</td>\\n      <td>0</td>\\n    </tr>\\n    <tr>\\n      <th>36</th>\\n      <td>37</td>\\n      <td>@beingsalmankhan</td>\\n      <td>Salman Khan</td>\\n      <td>44.1</td>\\n      <td>Actor</td>\\n      <td>India</td>\\n      <td>Followers (millions) * 1000000</td>\\n      <td>0</td>\\n    </tr>\\n    <tr>\\n      <th>37</th>\\n      <td>38</td>\\n      <td>@oprah</td>\\n      <td>Oprah Winfrey</td>\\n      <td>43.2</td>\\n      <td>Television personality</td>\\n      <td>United States</td>\\n      <td>Followers (millions) * 1000000</td>\\n      <td>1</td>\\n    </tr>\\n    <tr>\\n      <th>38</th>\\n      <td>39</td>\\n      <td>@brunomars</td>\\n      <td>Bruno Mars</td>\\n      <td>43.2</td>\\n      <td>Musician</td>\\n      <td>United States</td>\\n      <td>Followers (millions) * 1000000</td>\\n      <td>1</td>\\n    </tr>\\n    <tr>\\n      <th>39</th>\\n      <td>40</td>\\n      <td>@iamsrk</td>\\n      <td>Shah Rukh Khan</td>\\n      <td>42.5</td>\\n      <td>Actor</td>\\n      <td>India</td>\\n      <td>Followers (millions) * 1000000</td>\\n      <td>0</td>\\n    </tr>\\n    <tr>\\n      <th>40</th>\\n      <td>41</td>\\n      <td>@realmadrid</td>\\n      <td>Real Madrid CF</td>\\n      <td>41.8</td>\\n      <td>Football club</td>\\n      <td>Spain</td>\\n      <td>Followers (millions) * 1000000</td>\\n      <td>0</td>\\n    </tr>\\n    <tr>\\n      <th>41</th>\\n      <td>42</td>\\n      <td>@fcbarcelona</td>\\n      <td>FC Barcelona</td>\\n      <td>41.5</td>\\n      <td>Football club</td>\\n      <td>Spain</td>\\n      <td>Followers (millions) * 1000000</td>\\n      <td>0</td>\\n    </tr>\\n    <tr>\\n      <th>42</th>\\n      <td>43</td>\\n      <td>@niallofficial</td>\\n      <td>Niall Horan</td>\\n      <td>41.3</td>\\n      <td>Musician</td>\\n      <td>Ireland</td>\\n      <td>Followers (millions) * 1000000</td>\\n      <td>0</td>\\n    </tr>\\n    <tr>\\n      <th>43</th>\\n      <td>44</td>\\n      <td>@championsleague</td>\\n      <td>UEFA Champions League</td>\\n      <td>41.1</td>\\n      <td>Football tournament</td>\\n      <td>Europe</td>\\n      <td>Followers (millions) * 1000000</td>\\n      <td>0</td>\\n    </tr>\\n    <tr>\\n      <th>44</th>\\n      <td>45</td>\\n      <td>@espn</td>\\n      <td>ESPN</td>\\n      <td>40.2</td>\\n      <td>Sports channel</td>\\n      <td>United States</td>\\n      <td>Followers (millions) * 1000000</td>\\n      <td>1</td>\\n    </tr>\\n    <tr>\\n      <th>45</th>\\n      <td>46</td>\\n      <td>@sportscenter</td>\\n      <td>SportsCenter</td>\\n      <td>40.0</td>\\n      <td>Sports channel</td>\\n      <td>United States</td>\\n      <td>Followers (millions) * 1000000</td>\\n      <td>1</td>\\n    </tr>\\n    <tr>\\n      <th>46</th>\\n      <td>47</td>\\n      <td>@KylieJenner</td>\\n      <td>Kylie Jenner</td>\\n      <td>39.9</td>\\n      <td>Television personality</td>\\n      <td>United States</td>\\n      <td>Followers (millions) * 1000000</td>\\n      <td>1</td>\\n    </tr>\\n    <tr>\\n      <th>47</th>\\n      <td>48</td>\\n      <td>@drake</td>\\n      <td>Drake</td>\\n      <td>39.5</td>\\n      <td>Rapper</td>\\n      <td>Canada</td>\\n      <td>Followers (millions) * 1000000</td>\\n      <td>0</td>\\n    </tr>\\n    <tr>\\n      <th>48</th>\\n      <td>49</td>\\n      <td>@bts_bighit</td>\\n      <td>BTS</td>\\n      <td>39.2</td>\\n      <td>Musicians/K-pop</td>\\n      <td>South Korea</td>\\n      <td>Followers (millions) * 1000000</td>\\n      <td>0</td>\\n    </tr>\\n    <tr>\\n      <th>49</th>\\n      <td>50</td>\\n      <td>@Harry_Styles</td>\\n      <td>Harry Styles</td>\\n      <td>37.7</td>\\n      <td>Musician</td>\\n      <td>United Kingdom</td>\\n      <td>Followers (millions) * 1000000</td>\\n      <td>0</td>\\n    </tr>\\n  </tbody>\\n</table>'"
     },
     "execution_count": 38,
     "metadata": {},
     "output_type": "execute_result"
    }
   ],
   "source": [
    "df.to_html()"
   ],
   "metadata": {
    "collapsed": false
   }
  },
  {
   "cell_type": "markdown",
   "source": [
    "### 4.4 Delete a DataFrame"
   ],
   "metadata": {
    "collapsed": false
   }
  },
  {
   "cell_type": "code",
   "execution_count": null,
   "outputs": [],
   "source": [
    "del df"
   ],
   "metadata": {
    "collapsed": false
   }
  }
 ],
 "metadata": {
  "kernelspec": {
   "display_name": "Python 3",
   "language": "python",
   "name": "python3"
  },
  "language_info": {
   "codemirror_mode": {
    "name": "ipython",
    "version": 2
   },
   "file_extension": ".py",
   "mimetype": "text/x-python",
   "name": "python",
   "nbconvert_exporter": "python",
   "pygments_lexer": "ipython2",
   "version": "2.7.6"
  }
 },
 "nbformat": 4,
 "nbformat_minor": 0
}
