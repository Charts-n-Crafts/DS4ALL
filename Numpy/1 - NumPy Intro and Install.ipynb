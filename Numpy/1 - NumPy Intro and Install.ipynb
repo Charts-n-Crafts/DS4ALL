{
 "cells": [
  {
   "cell_type": "markdown",
   "source": [
    "# NumPy\n",
    "\n",
    "NumPy is a Linear Algebra Library for Python, almost all libraries in the PyData Ecosystem rely on NumPy.\n",
    "\n",
    "It's extremely fast as it has bindings to C libraries. For more info on why you would want to use NumPy Arrays instead of lists, check out this [StackOverflow post](http://stackoverflow.com/questions/993984/why-numpy-instead-of-python-lists).\n",
    "\n",
    "If you are completely new to NumPy it is worth coding along to a [video tutorial](https://www.youtube.com/watch?v=QUT1VHiLmmI)"
   ],
   "metadata": {
    "collapsed": false
   }
  },
  {
   "cell_type": "markdown",
   "source": [
    "## Installation\n",
    "\n",
    "Activate your conda environment with `conda activate <env_name>`\n",
    "\n",
    "Install the NumPy library with\n",
    "\n",
    "`conda install numpy`\n",
    "\n",
    "If you're not using Anaconda, heres a link to [other installation methods](https://docs.scipy.org/doc/numpy-1.10.1/user/install.html)"
   ],
   "metadata": {
    "collapsed": false
   }
  },
  {
   "cell_type": "markdown",
   "source": [
    "## Importing NumPy\n",
    "\n",
    "If NumPy is successfully installed within your environment then you will be able to import it as a library"
   ],
   "metadata": {
    "collapsed": false
   }
  },
  {
   "cell_type": "code",
   "execution_count": 1,
   "outputs": [],
   "source": [
    "import numpy as np  # If this cell runs without error you're good to go with the NumPy library"
   ],
   "metadata": {
    "collapsed": false
   }
  },
  {
   "cell_type": "markdown",
   "source": [
    "Here's the [official NumPy documentation for beginners](https://numpy.org/doc/stable/user/absolute_beginners.html#:~:text=The%20NumPy%20ndarray%20class%20is,tensor%20is%20also%20commonly%20used.)"
   ],
   "metadata": {
    "collapsed": false
   }
  }
 ],
 "metadata": {
  "kernelspec": {
   "display_name": "Python 3",
   "language": "python",
   "name": "python3"
  },
  "language_info": {
   "codemirror_mode": {
    "name": "ipython",
    "version": 2
   },
   "file_extension": ".py",
   "mimetype": "text/x-python",
   "name": "python",
   "nbconvert_exporter": "python",
   "pygments_lexer": "ipython2",
   "version": "2.7.6"
  }
 },
 "nbformat": 4,
 "nbformat_minor": 0
}
