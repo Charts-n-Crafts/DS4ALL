{
 "cells": [
  {
   "cell_type": "markdown",
   "source": [
    "# Arrays\n",
    "- Array Creation\n",
    "- Built-in array creating routines\n",
    "- Creating random number arrays\n",
    "- Array attributes\n",
    "- Array methods\n",
    "\n",
    "A NumPy array is a grid of values, all of the same type, indexed by a tuple of non-negative integers."
   ],
   "metadata": {
    "collapsed": false
   }
  },
  {
   "cell_type": "markdown",
   "source": [
    "## [Array creation](https://numpy.org/doc/stable/user/basics.creation.html#arrays-creation)"
   ],
   "metadata": {
    "collapsed": false
   }
  },
  {
   "cell_type": "markdown",
   "source": [
    "Creating NumPy Arrays with [np.array()](https://numpy.org/doc/stable/reference/generated/numpy.array.html)"
   ],
   "metadata": {
    "collapsed": false
   }
  },
  {
   "cell_type": "code",
   "execution_count": 2,
   "outputs": [],
   "source": [
    "import numpy as np # Start by importing the library"
   ],
   "metadata": {
    "collapsed": false
   }
  },
  {
   "cell_type": "markdown",
   "source": [
    "Create a vector by casting a list to an array"
   ],
   "metadata": {
    "collapsed": false
   }
  },
  {
   "cell_type": "code",
   "execution_count": 3,
   "outputs": [
    {
     "data": {
      "text/plain": "[1, 2, 3]"
     },
     "execution_count": 3,
     "metadata": {},
     "output_type": "execute_result"
    }
   ],
   "source": [
    "my_list = [1,2,3]\n",
    "my_list"
   ],
   "metadata": {
    "collapsed": false
   }
  },
  {
   "cell_type": "code",
   "execution_count": 4,
   "outputs": [
    {
     "data": {
      "text/plain": "array([1, 2, 3])"
     },
     "execution_count": 4,
     "metadata": {},
     "output_type": "execute_result"
    }
   ],
   "source": [
    "np.array(my_list)"
   ],
   "metadata": {
    "collapsed": false
   }
  },
  {
   "cell_type": "markdown",
   "source": [
    "Create a matrix by casting a list of lists to an array"
   ],
   "metadata": {
    "collapsed": false
   }
  },
  {
   "cell_type": "code",
   "execution_count": 5,
   "outputs": [
    {
     "data": {
      "text/plain": "[[1, 2, 3], [4, 5, 6], [7, 8, 9]]"
     },
     "execution_count": 5,
     "metadata": {},
     "output_type": "execute_result"
    }
   ],
   "source": [
    "my_matrix = [[1,2,3],[4,5,6],[7,8,9]]\n",
    "my_matrix"
   ],
   "metadata": {
    "collapsed": false
   }
  },
  {
   "cell_type": "code",
   "execution_count": 6,
   "outputs": [
    {
     "data": {
      "text/plain": "array([[1, 2, 3],\n       [4, 5, 6],\n       [7, 8, 9]])"
     },
     "execution_count": 6,
     "metadata": {},
     "output_type": "execute_result"
    }
   ],
   "source": [
    "np.array(my_matrix)"
   ],
   "metadata": {
    "collapsed": false
   }
  },
  {
   "cell_type": "markdown",
   "source": [
    "## NumPy [built-in array creating routines](https://numpy.org/doc/stable/reference/routines.array-creation.html#routines-array-creation)\n",
    "\n",
    "NumPy has many different ways built-in that will allow you to quickly create arrays"
   ],
   "metadata": {
    "collapsed": false
   }
  },
  {
   "cell_type": "markdown",
   "source": [
    "### [.arange()](https://numpy.org/doc/stable/reference/generated/numpy.arange.html)\n",
    "\n",
    "arange returns an array of evenly spaced values over a given interval\n",
    "\n",
    "`np.arange(start,stop)`\n"
   ],
   "metadata": {
    "collapsed": false
   }
  },
  {
   "cell_type": "code",
   "execution_count": 7,
   "outputs": [
    {
     "data": {
      "text/plain": "array([0, 1, 2, 3, 4, 5, 6, 7, 8, 9])"
     },
     "execution_count": 7,
     "metadata": {},
     "output_type": "execute_result"
    }
   ],
   "source": [
    "np.arange(0,10)"
   ],
   "metadata": {
    "collapsed": false
   }
  },
  {
   "cell_type": "markdown",
   "source": [
    "### [.zeros()](https://numpy.org/doc/stable/reference/generated/numpy.zeros.html)\n",
    "\n",
    "zeros returns an array of zeros\n",
    "\n",
    "1d - `np.zeros(n)`\n",
    "2d - `np.zeros((n,n))`"
   ],
   "metadata": {
    "collapsed": false
   }
  },
  {
   "cell_type": "code",
   "execution_count": 8,
   "outputs": [
    {
     "data": {
      "text/plain": "array([0., 0., 0., 0., 0.])"
     },
     "execution_count": 8,
     "metadata": {},
     "output_type": "execute_result"
    }
   ],
   "source": [
    "np.zeros(5) # create an array of five zeros"
   ],
   "metadata": {
    "collapsed": false
   }
  },
  {
   "cell_type": "code",
   "execution_count": 10,
   "outputs": [
    {
     "data": {
      "text/plain": "array([[0., 0., 0., 0., 0.],\n       [0., 0., 0., 0., 0.],\n       [0., 0., 0., 0., 0.],\n       [0., 0., 0., 0., 0.],\n       [0., 0., 0., 0., 0.]])"
     },
     "execution_count": 10,
     "metadata": {},
     "output_type": "execute_result"
    }
   ],
   "source": [
    "np.zeros((5,5)) # create a five by five array of zeroes, notice how 2d arrays are created using a tuple of values"
   ],
   "metadata": {
    "collapsed": false
   }
  },
  {
   "cell_type": "markdown",
   "source": [
    "### [.ones()](https://numpy.org/doc/stable/reference/generated/numpy.ones.html)\n",
    "\n",
    "ones returns an array of ones\n",
    "\n",
    "1d - `np.ones(n)`\n",
    "2d - `np.ones((n,n))`"
   ],
   "metadata": {
    "collapsed": false
   }
  },
  {
   "cell_type": "code",
   "execution_count": 11,
   "outputs": [
    {
     "data": {
      "text/plain": "array([1., 1., 1., 1., 1.])"
     },
     "execution_count": 11,
     "metadata": {},
     "output_type": "execute_result"
    }
   ],
   "source": [
    "np.ones(5) # create an array of five ones"
   ],
   "metadata": {
    "collapsed": false
   }
  },
  {
   "cell_type": "code",
   "execution_count": 12,
   "outputs": [
    {
     "data": {
      "text/plain": "array([[1., 1., 1., 1., 1.],\n       [1., 1., 1., 1., 1.],\n       [1., 1., 1., 1., 1.],\n       [1., 1., 1., 1., 1.],\n       [1., 1., 1., 1., 1.]])"
     },
     "execution_count": 12,
     "metadata": {},
     "output_type": "execute_result"
    }
   ],
   "source": [
    "np.ones((5,5)) # create a five by five array of ones"
   ],
   "metadata": {
    "collapsed": false
   }
  },
  {
   "cell_type": "markdown",
   "source": [
    "### [.linspace()](https://numpy.org/doc/stable/reference/generated/numpy.linspace.html)\n",
    "\n",
    "linspace returns an array of evenly spaced numbers over a specified interval\n",
    "\n",
    "`np.linspace(start,stop,n)`"
   ],
   "metadata": {
    "collapsed": false
   }
  },
  {
   "cell_type": "code",
   "execution_count": 14,
   "outputs": [
    {
     "data": {
      "text/plain": "array([1., 2., 3.])"
     },
     "execution_count": 14,
     "metadata": {},
     "output_type": "execute_result"
    }
   ],
   "source": [
    "np.linspace(1,3,3)  # create an array of three evenly space numbers between one and three"
   ],
   "metadata": {
    "collapsed": false
   }
  },
  {
   "cell_type": "code",
   "execution_count": 15,
   "outputs": [
    {
     "data": {
      "text/plain": "array([0.        , 0.11111111, 0.22222222, 0.33333333, 0.44444444,\n       0.55555556, 0.66666667, 0.77777778, 0.88888889, 1.        ])"
     },
     "execution_count": 15,
     "metadata": {},
     "output_type": "execute_result"
    }
   ],
   "source": [
    "np.linspace(0,1,10) # create an array of ten evenly spaced numbers between zero and one"
   ],
   "metadata": {
    "collapsed": false
   }
  },
  {
   "cell_type": "markdown",
   "source": [
    "### [.eye()](https://numpy.org/devdocs/reference/generated/numpy.eye.html)\n",
    "\n",
    "eye creates an [identity matrix](https://en.wikipedia.org/wiki/Identity_matrix)\n",
    "\n",
    "`np.eye(n)`"
   ],
   "metadata": {
    "collapsed": false
   }
  },
  {
   "cell_type": "code",
   "execution_count": 16,
   "outputs": [
    {
     "data": {
      "text/plain": "array([[1., 0., 0., 0., 0.],\n       [0., 1., 0., 0., 0.],\n       [0., 0., 1., 0., 0.],\n       [0., 0., 0., 1., 0.],\n       [0., 0., 0., 0., 1.]])"
     },
     "execution_count": 16,
     "metadata": {},
     "output_type": "execute_result"
    }
   ],
   "source": [
    "np.eye(5)   # create a 5 by 5 identity matrix"
   ],
   "metadata": {
    "collapsed": false
   }
  },
  {
   "cell_type": "markdown",
   "source": [
    "## Creating random number arrays"
   ],
   "metadata": {
    "collapsed": false
   }
  },
  {
   "cell_type": "markdown",
   "source": [
    "[.random.rand()](https://numpy.org/doc/stable/reference/random/generated/numpy.random.rand.html)\n",
    "\n",
    "rand returns an array of random numbers from a [Uniform distribution](https://mathworld.wolfram.com/UniformDistribution.html)\n",
    "\n",
    "1d - `np.random.rand(n)`\n",
    "2d - `np.random.rand(n,n)`"
   ],
   "metadata": {
    "collapsed": false
   }
  },
  {
   "cell_type": "code",
   "execution_count": 17,
   "outputs": [
    {
     "data": {
      "text/plain": "array([0.93079953, 0.16024721, 0.1522763 , 0.14377352, 0.18182003])"
     },
     "execution_count": 17,
     "metadata": {},
     "output_type": "execute_result"
    }
   ],
   "source": [
    "np.random.rand(5)   # create an array of five numbers from a Uniform distribution"
   ],
   "metadata": {
    "collapsed": false
   }
  },
  {
   "cell_type": "code",
   "execution_count": 18,
   "outputs": [
    {
     "data": {
      "text/plain": "array([[6.78890408e-01, 6.64256409e-01, 5.38170434e-01, 4.40085244e-02,\n        9.32066296e-01],\n       [7.04255815e-01, 5.18742724e-01, 5.41277007e-01, 2.14566805e-01,\n        6.21215496e-01],\n       [7.77988923e-01, 5.88862703e-02, 3.46889732e-04, 4.07973065e-01,\n        1.37816216e-01],\n       [7.53043727e-01, 1.24874763e-01, 5.45411762e-01, 9.64070422e-01,\n        2.25646785e-01],\n       [1.13384360e-01, 7.69118694e-01, 4.56389451e-03, 9.25966114e-01,\n        4.25473388e-01]])"
     },
     "execution_count": 18,
     "metadata": {},
     "output_type": "execute_result"
    }
   ],
   "source": [
    "np.random.rand(5,5) # create a five by five matrix of numbers from a Uniform distribution"
   ],
   "metadata": {
    "collapsed": false
   }
  },
  {
   "cell_type": "markdown",
   "source": [
    "[.random.randn()](https://numpy.org/doc/stable/reference/random/generated/numpy.random.randn.html)\n",
    "\n",
    "randn returns an array of random numbers from a [Standard Normal distribution](https://mathworld.wolfram.com/NormalDistribution.html)\n",
    "\n",
    "1d - `np.random.randn(n)`\n",
    "2d -`np.random.randn(n,n)`"
   ],
   "metadata": {
    "collapsed": false
   }
  },
  {
   "cell_type": "code",
   "execution_count": 19,
   "outputs": [
    {
     "data": {
      "text/plain": "array([ 2.24341315,  1.31672588,  0.15221717, -1.54175564,  1.74593415])"
     },
     "execution_count": 19,
     "metadata": {},
     "output_type": "execute_result"
    }
   ],
   "source": [
    "np.random.randn(5)  # create a five by five matrix of numbers from a Normal distribution"
   ],
   "metadata": {
    "collapsed": false
   }
  },
  {
   "cell_type": "code",
   "execution_count": 20,
   "outputs": [
    {
     "data": {
      "text/plain": "array([[ 1.07589399,  0.93873707, -0.14394717, -0.14489925, -0.51109647],\n       [-1.27436377,  1.4586825 ,  0.14458712,  1.36912496,  0.30797205],\n       [ 0.19168567, -0.56867208,  0.57368984,  0.87457782,  1.01974625],\n       [ 0.10617579,  0.22347777, -0.03731724,  0.30325902, -0.84801188],\n       [-0.70891641, -0.09705344, -0.28254932, -0.81362657,  1.21889331]])"
     },
     "execution_count": 20,
     "metadata": {},
     "output_type": "execute_result"
    }
   ],
   "source": [
    "np.random.randn(5,5)"
   ],
   "metadata": {
    "collapsed": false
   }
  },
  {
   "cell_type": "markdown",
   "source": [
    "[.random.randint()](https://numpy.org/doc/stable/reference/random/generated/numpy.random.randint.html)\n",
    "\n",
    "randint returns random integers, exclusive of `high`, `size` is optional\n",
    "\n",
    "`np.random.randint(low,high,size)`\n"
   ],
   "metadata": {
    "collapsed": false
   }
  },
  {
   "cell_type": "code",
   "execution_count": 21,
   "outputs": [
    {
     "data": {
      "text/plain": "34"
     },
     "execution_count": 21,
     "metadata": {},
     "output_type": "execute_result"
    }
   ],
   "source": [
    "np.random.randint(1,101)    # generate a random number between 1 and 100"
   ],
   "metadata": {
    "collapsed": false
   }
  },
  {
   "cell_type": "code",
   "execution_count": 22,
   "outputs": [
    {
     "data": {
      "text/plain": "array([91, 38, 14, 43, 38, 90, 97, 95, 96, 65])"
     },
     "execution_count": 22,
     "metadata": {},
     "output_type": "execute_result"
    }
   ],
   "source": [
    "np.random.randint(1,101,10) # generate ten random numbers between 1 and 100"
   ],
   "metadata": {
    "collapsed": false
   }
  },
  {
   "cell_type": "markdown",
   "source": [
    "## [Array attributes](https://numpy.org/doc/stable/reference/arrays.ndarray.html#:~:text=Array%20attributes%20reflect%20information%20that,without%20creating%20a%20new%20array.)\n",
    "\n",
    "Array attributes reflect information that is intrinsic to the array itself. Generally, accessing an array through its attributes allows you to get and sometimes set intrinsic properties of the array without creating a new array.\n",
    "\n",
    "Two key attributes you will want to know about arrays are their shape and data type.\n"
   ],
   "metadata": {
    "collapsed": false
   }
  },
  {
   "cell_type": "code",
   "execution_count": 23,
   "outputs": [
    {
     "data": {
      "text/plain": "array([ 0,  1,  2,  3,  4,  5,  6,  7,  8,  9, 10, 11, 12, 13, 14, 15, 16,\n       17, 18, 19])"
     },
     "execution_count": 23,
     "metadata": {},
     "output_type": "execute_result"
    }
   ],
   "source": [
    "arr = np.arange(20) # Create an array of 20 evenly spaced values\n",
    "arr"
   ],
   "metadata": {
    "collapsed": false
   }
  },
  {
   "cell_type": "code",
   "execution_count": 24,
   "outputs": [
    {
     "data": {
      "text/plain": "(20,)"
     },
     "execution_count": 24,
     "metadata": {},
     "output_type": "execute_result"
    }
   ],
   "source": [
    "arr.shape   # Notice how the output is 20 rows"
   ],
   "metadata": {
    "collapsed": false
   }
  },
  {
   "cell_type": "code",
   "execution_count": 25,
   "outputs": [
    {
     "data": {
      "text/plain": "dtype('int64')"
     },
     "execution_count": 25,
     "metadata": {},
     "output_type": "execute_result"
    }
   ],
   "source": [
    "arr.dtype   # 64-bit integers"
   ],
   "metadata": {
    "collapsed": false
   }
  },
  {
   "cell_type": "code",
   "execution_count": 28,
   "outputs": [
    {
     "data": {
      "text/plain": "array([[-0.08955625,  0.13473197, -0.16669705, -1.3943698 ,  0.91731906,\n        -0.50044625, -0.05839422,  0.34108881,  0.25427774,  1.55167271,\n        -1.16009673, -0.40935537, -0.68428276,  0.40355083,  0.25698209,\n         0.44053071,  1.06314899, -1.42342029,  2.01190387, -0.25298281],\n       [ 1.46473799,  0.66528716,  1.3764596 ,  1.71681558, -0.55282272,\n         0.23740833, -0.82743943,  1.14232611, -1.22113029, -1.07564094,\n         0.00840319, -0.55365401,  0.36034392, -1.61191503,  0.25875797,\n        -2.82240025,  0.27455183,  0.9098267 ,  0.22261205,  1.25396343],\n       [ 0.48419258, -1.98108054,  0.18408874,  0.73922696, -0.46186534,\n         1.00346508,  2.09871535, -1.28839589,  0.80160553,  0.17719455,\n         1.01688756,  1.00980916,  0.41473812,  0.54275306,  0.69876006,\n        -1.76972615, -0.3053793 , -0.36766699, -0.10827756,  2.10192205],\n       [ 0.04094074,  0.68544964, -0.87902787,  0.59967228, -0.2574219 ,\n         2.22585715, -0.8467173 ,  1.11119063, -0.84701058,  0.9869162 ,\n         0.18635055,  0.01027006, -0.19132911, -0.40631054,  0.74639421,\n        -0.21255396,  0.01197079,  1.54311376, -1.79711622, -0.33219535],\n       [ 2.3326025 , -0.44710629, -0.57944063,  0.20155304,  0.22213384,\n        -0.13361311,  1.91637635, -0.2651242 , -0.98463349,  0.43724075,\n         0.66012788,  0.24680067, -0.33954041, -0.26441377,  1.66218533,\n         0.24632907,  0.41128415, -1.92252245, -0.51417161,  0.04727281],\n       [ 2.64206522, -0.38373861, -0.80200308, -0.3647332 ,  1.60904707,\n        -0.17559575,  0.690723  ,  0.13213014,  0.52852821,  3.12422781,\n        -0.30444683, -0.48792737, -0.71069412, -1.12659278,  0.22657243,\n        -1.22732839, -0.52347812,  0.1601878 ,  0.2651294 , -1.73514767],\n       [ 1.04512036,  0.93592054, -0.95882967, -0.39870797, -0.03250953,\n         1.65383724, -0.3203639 , -1.15830093, -0.88314053,  2.25335047,\n         0.26165441, -0.26677755,  0.99392024,  1.91997986,  1.73509078,\n        -0.89991141,  0.12743854,  0.16866198, -1.38058   , -1.17243248],\n       [ 0.93981947, -1.59068599,  0.17343493, -0.74140137, -1.6700247 ,\n         0.33815246,  1.27616805,  1.74548079, -0.3162115 ,  0.05909992,\n         0.54569916, -2.54472983, -0.68099972, -1.41006874,  0.81016828,\n         2.035574  ,  0.88397542, -0.34556663,  0.17691972,  0.05661122],\n       [-0.01669198, -1.80549686,  0.46502354,  0.28216083,  0.61252172,\n        -0.43741865,  0.4003167 ,  0.44975287,  0.51621171, -1.32820004,\n         1.36097782, -2.53917891,  0.13126763,  0.11580167,  0.21217522,\n        -1.48806512, -0.87372358,  0.96675792, -0.28968151,  0.36153571],\n       [ 0.06514949, -0.32873488, -0.45695089, -0.1929218 , -0.56573466,\n        -1.60002996,  0.8162093 , -0.13731054,  0.31403509,  0.30893434,\n        -0.93295873, -0.88454282, -0.5056809 ,  1.09576253,  0.37535195,\n         1.7101323 ,  0.67920424, -0.41160302,  1.2847714 ,  1.22065443],\n       [ 0.65814705,  0.9950684 , -0.67278739,  1.18493664,  0.25390059,\n        -0.45705956, -0.58977926,  0.86747754,  0.30047182,  0.20976851,\n         1.08732831,  0.80874818,  1.35743948, -0.85233718, -1.80799081,\n        -0.69509526, -1.0718905 ,  0.5107714 ,  1.512942  , -1.06249625],\n       [-0.97536498,  1.37567715, -0.21458681, -1.10587181, -0.45587302,\n         1.26908489, -1.04050073,  0.28505206,  0.0634698 , -1.01770007,\n         0.42295292,  0.39103245,  0.83821985,  1.60408376,  0.64107478,\n        -0.08043019,  0.16610874,  0.75960233, -0.3354199 ,  0.70658073],\n       [-0.62512567,  0.0991135 ,  0.56937381,  0.75404111, -1.22437574,\n        -0.29813318,  0.88017857, -1.11917685, -0.59064568,  0.90105345,\n        -0.71574117,  1.13859723, -1.02569012,  1.99113145, -1.2746175 ,\n         1.06946215,  1.33779081,  0.46227495,  0.34366911, -0.52438467],\n       [-0.20398689, -1.72249668,  0.11498998,  0.54221774,  1.08686043,\n         0.07797394,  0.16929084,  0.81713906,  1.99269849,  0.70142494,\n         0.4034377 , -1.01088019,  0.70050519,  0.84564747,  1.12260097,\n        -0.49126163, -0.44809352,  0.10530649,  2.11108403,  0.02100994],\n       [-1.18352019,  0.40713772, -1.20193244, -0.24135842, -1.91595732,\n        -0.10987529,  0.6030228 , -0.53198511, -3.20914809,  1.89638605,\n        -0.31594826, -1.11533937,  0.46098782,  0.91400062,  0.6554599 ,\n        -0.57628068, -1.72963442,  0.63861027, -1.71988938,  0.62219862],\n       [-0.91840227, -0.45863458,  0.01921967,  0.89746538, -1.46037883,\n         1.73438728, -0.72355279,  0.37033839,  2.44667694,  1.15374677,\n         0.13628471, -1.47649145, -0.29499176,  1.17569198,  1.06436769,\n        -0.79263834, -0.96511094, -0.95359464,  0.21195821, -1.44113946],\n       [-0.29670155, -1.53197627, -0.31080372, -1.40115287,  0.08973676,\n         0.15038993, -1.62608608, -1.39505354, -0.28973421,  0.27375265,\n        -0.88870229, -0.77041845, -0.5395648 ,  0.27301839, -0.50958149,\n         1.80228761, -0.11075898,  0.71539206, -1.19979843, -1.15542375],\n       [ 1.11906024, -0.32610146, -0.81051159, -0.5021886 ,  2.26111046,\n        -0.19684639, -0.04947954,  2.32143774, -0.33822967,  3.27593226,\n        -1.02553002,  1.23233084,  0.62102635, -1.38255235,  2.42689991,\n         0.12302658,  0.42272677, -1.48251709, -1.78186703, -0.08932942],\n       [-1.28945598,  0.61805332,  1.2952493 ,  2.11444497,  0.29404554,\n        -1.178904  , -0.50561014,  1.48051573, -0.75232107,  0.91734781,\n        -1.61109662,  1.31881379, -1.13372864, -1.58376241, -0.27556647,\n        -0.4143535 ,  0.71136576, -0.80689874, -0.36476851, -0.57226374],\n       [-1.15062204,  1.8740875 , -0.38202836, -0.63344826, -0.28916301,\n        -0.355646  , -0.40622663,  0.37312837, -0.76275886,  0.14265444,\n        -0.53458463, -0.10896972, -0.63562263,  0.0864473 ,  0.03873886,\n         0.06140534,  1.23615796,  1.53986797, -1.0098397 ,  1.29052558]])"
     },
     "execution_count": 28,
     "metadata": {},
     "output_type": "execute_result"
    }
   ],
   "source": [
    "arr2 = np.random.randn(20,20)   # Create a 20 by 20 matrix of random numbers from a normal distribution\n",
    "arr2"
   ],
   "metadata": {
    "collapsed": false
   }
  },
  {
   "cell_type": "code",
   "execution_count": 30,
   "outputs": [
    {
     "data": {
      "text/plain": "(20, 20)"
     },
     "execution_count": 30,
     "metadata": {},
     "output_type": "execute_result"
    }
   ],
   "source": [
    "arr2.shape  # Notice how the output is 20 rows and 20 columns"
   ],
   "metadata": {
    "collapsed": false
   }
  },
  {
   "cell_type": "code",
   "execution_count": 31,
   "outputs": [
    {
     "data": {
      "text/plain": "dtype('float64')"
     },
     "execution_count": 31,
     "metadata": {},
     "output_type": "execute_result"
    }
   ],
   "source": [
    "arr2.dtype  # 64-bit floating point number"
   ],
   "metadata": {
    "collapsed": false
   }
  },
  {
   "cell_type": "markdown",
   "source": [
    "## [Array Methods](https://numpy.org/doc/stable/reference/generated/numpy.ndarray.html)"
   ],
   "metadata": {
    "collapsed": false
   }
  },
  {
   "cell_type": "code",
   "execution_count": 44,
   "outputs": [
    {
     "data": {
      "text/plain": "array([63, 34, 61, 72, 75,  5, 79, 19, 72, 69, 70, 39, 11, 72, 88, 20, 45,\n       44, 42, 95, 48, 61, 50, 99, 25])"
     },
     "execution_count": 44,
     "metadata": {},
     "output_type": "execute_result"
    }
   ],
   "source": [
    "arr3 = np.random.randint(1,100,25) # Create an array of 25 random numbers between 1 and 99\n",
    "arr3"
   ],
   "metadata": {
    "collapsed": false
   }
  },
  {
   "cell_type": "markdown",
   "source": [
    "Reshape an array with [.reshape()](https://numpy.org/doc/stable/reference/generated/numpy.reshape.html)"
   ],
   "metadata": {
    "collapsed": false
   }
  },
  {
   "cell_type": "code",
   "execution_count": 47,
   "outputs": [
    {
     "data": {
      "text/plain": "array([[63, 34, 61, 72, 75],\n       [ 5, 79, 19, 72, 69],\n       [70, 39, 11, 72, 88],\n       [20, 45, 44, 42, 95],\n       [48, 61, 50, 99, 25]])"
     },
     "execution_count": 47,
     "metadata": {},
     "output_type": "execute_result"
    }
   ],
   "source": [
    "arr3 = arr3.reshape(5,5)\n",
    "arr3"
   ],
   "metadata": {
    "collapsed": false
   }
  },
  {
   "cell_type": "markdown",
   "source": [
    "Find the max value in an array with [.max()](https://numpy.org/doc/stable/reference/generated/numpy.ndarray.max.html)"
   ],
   "metadata": {
    "collapsed": false
   }
  },
  {
   "cell_type": "code",
   "execution_count": 49,
   "outputs": [
    {
     "data": {
      "text/plain": "99"
     },
     "execution_count": 49,
     "metadata": {},
     "output_type": "execute_result"
    }
   ],
   "source": [
    "arr3.max()"
   ],
   "metadata": {
    "collapsed": false
   }
  },
  {
   "cell_type": "markdown",
   "source": [
    "Find the index location of the max value in an array with [.argmax()](https://numpy.org/doc/stable/reference/generated/numpy.argmax.html)"
   ],
   "metadata": {
    "collapsed": false
   }
  },
  {
   "cell_type": "code",
   "execution_count": 51,
   "outputs": [
    {
     "data": {
      "text/plain": "23"
     },
     "execution_count": 51,
     "metadata": {},
     "output_type": "execute_result"
    }
   ],
   "source": [
    "arr3.argmax()"
   ],
   "metadata": {
    "collapsed": false
   }
  },
  {
   "cell_type": "markdown",
   "source": [
    "Find the min value in an array with [.min()](https://numpy.org/doc/stable/reference/generated/numpy.minimum.html)"
   ],
   "metadata": {
    "collapsed": false
   }
  },
  {
   "cell_type": "code",
   "execution_count": 52,
   "outputs": [
    {
     "data": {
      "text/plain": "5"
     },
     "execution_count": 52,
     "metadata": {},
     "output_type": "execute_result"
    }
   ],
   "source": [
    "arr3.min()"
   ],
   "metadata": {
    "collapsed": false
   }
  },
  {
   "cell_type": "markdown",
   "source": [
    "Find the index location of the min value in an array with [.argmin()](https://numpy.org/doc/stable/reference/generated/numpy.argmin.html)"
   ],
   "metadata": {
    "collapsed": false
   }
  },
  {
   "cell_type": "code",
   "execution_count": 53,
   "outputs": [
    {
     "data": {
      "text/plain": "5"
     },
     "execution_count": 53,
     "metadata": {},
     "output_type": "execute_result"
    }
   ],
   "source": [
    "arr3.argmin()"
   ],
   "metadata": {
    "collapsed": false
   }
  }
 ],
 "metadata": {
  "kernelspec": {
   "display_name": "Python 3",
   "language": "python",
   "name": "python3"
  },
  "language_info": {
   "codemirror_mode": {
    "name": "ipython",
    "version": 2
   },
   "file_extension": ".py",
   "mimetype": "text/x-python",
   "name": "python",
   "nbconvert_exporter": "python",
   "pygments_lexer": "ipython2",
   "version": "2.7.6"
  }
 },
 "nbformat": 4,
 "nbformat_minor": 0
}
