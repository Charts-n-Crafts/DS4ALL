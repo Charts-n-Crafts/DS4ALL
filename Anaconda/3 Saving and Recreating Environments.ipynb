{
 "cells": [
  {
   "cell_type": "markdown",
   "source": [
    "# [Saving and Recreating Environments](https://docs.conda.io/projects/conda/en/latest/user-guide/tasks/manage-environments.html#)\n",
    "\n",
    "It's important to be able to save and recreate Conda environments for reproducibility and your future self will thank you for it.\n",
    "\n",
    "Anaconda suggest that it's best practice to create environment files by hand. This is probably due to changes in Conda's code base which means there are some issues when creating these files automatically\n",
    "- pip installs aren't included\n",
    "- channels aren't automatically updated\n",
    "- a prefix that specifies where to install the environment is included in the YAML file but this is specific to the machine where the environment was initially created"
   ],
   "metadata": {
    "collapsed": false
   }
  },
  {
   "cell_type": "markdown",
   "source": [
    "## TLDR\n",
    "\n",
    "### Step-by-step\n",
    "IN YOUR TERMINAL USE THE COMMAND: `conda env export --from-history`\n",
    "COPY THE OUTPUT AND SAVE IN A FILE: `<file_name>.yml`\n",
    "REMOVE PREFIX INSIDE `<file_name>.yml`\n",
    "RECREATE ENVIRONMENT WITH: `conda env create --name <env_name> --file <file_name>.yml`\n",
    "\n",
    "### In one line\n",
    "You can also use the following method to create your YAML file\n",
    "`conda env export --name <env_name> --from-history --file <file_name>.yml`\n",
    "\n",
    "### Create conda environment from YAML file\n",
    "`conda env create --file <file_name>.yml`\n",
    "\n",
    "`<env_name>` - Name of environment you want to export/create\n",
    "`<file_name>.yml` - Name of YAML file you want to use to create your environment or export your environment to\n"
   ],
   "metadata": {
    "collapsed": false
   }
  },
  {
   "cell_type": "markdown",
   "source": [
    "## Creating and using .txt spec files (NOT CROSS PLATFORM)\n",
    "\n",
    "The specification of the conda environment used to create these notebooks was saved in .txt format using the command:\n",
    "\n",
    "`conda list --explicit > spec_file.txt`\n",
    "\n",
    "If you check inside spec_file.txt you will see the following line:\n",
    "\n",
    "`# platform: linux-64`\n",
    "\n",
    "As this part of the course was written on a machine running 64-bit Linux (Ubuntu 18.04.6 LTS) all the packages used were from repositories specifically for that Operating System.\n",
    "\n",
    "The conda environment can be recreated using the saved txt file with the command:\n",
    "\n",
    "`conda env create --file spec_file.txt`\n",
    "\n",
    "However, if you are using a different operating system such as Windows, macOS, or even other versions of Linux this method is probably **not going to work**."
   ],
   "metadata": {
    "collapsed": false
   }
  },
  {
   "cell_type": "markdown",
   "source": [
    "## Creating and using YAML files (explicit package versions)\n",
    "\n",
    "You can create an environment file that specifies the exact package versions using the following syntax:\n",
    "\n",
    "`conda env export > <file_name>.yml`\n",
    "\n",
    "To create versioned_environment.yml the following command was used:\n",
    "\n",
    "`conda env export --no-builds > versioned_environment.yml`\n",
    "\n",
    "The `--no-builds` flag was used to take the OS specific build numbers out."
   ],
   "metadata": {
    "collapsed": false
   }
  },
  {
   "cell_type": "markdown",
   "source": [
    "## Creating and using YAML files (general up-to-date versions)\n",
    "\n",
    "As Anaconda handles package dependencies automatically, the DS4ALL environment was created using the most up-to-date versions of each package at the time.\n",
    "\n",
    "The specification of the conda environment used to create these notebooks was saved in .yml format using the commands:\n",
    "\n",
    "`conda env export --from-history`\n",
    "\n",
    "This gave the output:\n",
    "\n",
    "<pre><code>\n",
    "name: DS4ALL\n",
    "channels:\n",
    "  - plotly\n",
    "  - conda-forge\n",
    "  - defaults\n",
    "dependencies:\n",
    "  - numpy\n",
    "  - jupyterlab\n",
    "  - seaborn\n",
    "  - pandas\n",
    "  - cufflinks-py\n",
    "  - matplotlib\n",
    "  - python\n",
    "  - plotly\n",
    "  - jupyter\n",
    "prefix: /home/arthur/anaconda3/envs/DS4ALL\n",
    "</code></pre>\n",
    "\n",
    "Which was then copy and pasted into a file named general_environment.yml and the prefix removed.\n",
    "\n",
    "The environment can then be recreated from the YAML file using the command:\n",
    "\n",
    "`conda env create -- name <env_name> --file <file_name>.yml`\n",
    "\n",
    "`conda env create --name DS4ALL --file general_environment.yml`\n",
    "\n",
    "This *should* create a conda environment named 'DS4ALL' with all the necessary dependencies to run these notebooks\n",
    "\n"
   ],
   "metadata": {
    "collapsed": false
   }
  },
  {
   "cell_type": "markdown",
   "source": [
    "## Updating an environment\n",
    "\n",
    "If dependencies are updated or removed from the environment during you project you can use the following command to update the environment file:\n",
    "\n",
    "`conda env update --file <file_name>.yml  --prune`"
   ],
   "metadata": {
    "collapsed": false
   }
  },
  {
   "cell_type": "code",
   "execution_count": null,
   "outputs": [],
   "source": [],
   "metadata": {
    "collapsed": false
   }
  }
 ],
 "metadata": {
  "kernelspec": {
   "display_name": "Python 3",
   "language": "python",
   "name": "python3"
  },
  "language_info": {
   "codemirror_mode": {
    "name": "ipython",
    "version": 2
   },
   "file_extension": ".py",
   "mimetype": "text/x-python",
   "name": "python",
   "nbconvert_exporter": "python",
   "pygments_lexer": "ipython2",
   "version": "2.7.6"
  }
 },
 "nbformat": 4,
 "nbformat_minor": 0
}
