{
 "cells": [
  {
   "cell_type": "markdown",
   "source": [
    "## Create Environment in one line\n",
    "\n",
    "It's best practice to try and install all the dependencies for your project at the same time, to do this you will need to know all the packages you will use beforehand.\n",
    "\n",
    "The following command will create an environment with all the dependencies for running these notebooks:\n",
    "\n",
    "`conda create --name DS4ALL python jupyterlab numpy pandas matplotlib seaborn plotly::plotly conda-forge::cufflinks-py`\n",
    "\n",
    "This creates a Conda environment named 'DS4ALL' downloads the most recent compatible versions of python, jupyterlab, numpy, pandas, matplotlib and seaborn from the [main channel](https://repo.anaconda.com/pkgs/), plotly from the [plotly channel](https://anaconda.org/plotly/plotly) and cufflinks python from [conda-forge](https://anaconda.org/conda-forge/cufflinks-py)"
   ],
   "metadata": {
    "collapsed": false
   }
  },
  {
   "cell_type": "markdown",
   "source": [
    "## Create Environment incrementally\n",
    "\n",
    "Sometimes you need to add dependencies into your environment as you go along to, building the same DS4ALL environment incrementally would look like this:\n",
    "\n",
    "`conda create name DS4ALL python jupyterlab`  - This will create a conda environment with the most recent version of python and jupyterlab for our programming environment\n",
    "\n",
    "`conda activate DS4ALL` - This activates the conda environment\n",
    "\n",
    "`conda install numpy`\n",
    "\n",
    "`conda install pandas`\n",
    "\n",
    "`conda install matplotlib`\n",
    "\n",
    "`conda install seaborn`\n",
    "\n",
    "`conda install --channel plotly ploty`\n",
    "\n",
    "`conda install --channel conda-forge cufflinks-py`\n",
    "\n",
    "As you can see plotly and cufflinks were downloaded from [different channels](https://docs.conda.io/projects/conda/en/latest/user-guide/concepts/channels.html)"
   ],
   "metadata": {
    "collapsed": false
   }
  },
  {
   "cell_type": "markdown",
   "source": [
    "## Add conda channels\n",
    "\n",
    "Once you have created the environment and installed the dependencies you will want to add any non-default channels you used so the environment can be shared and recreated at a later date\n",
    "\n",
    "The general syntax for adding channels is\n",
    "\n",
    "`conda config --add channels <channel-name>`     &nbsp;&nbsp;&nbsp; - to give channel the highest priority\n",
    "`conda config --append channels <channel-name>`     &nbsp;&nbsp;&nbsp; - to give channel the lowest priority\n",
    "\n",
    "For the DS4ALL environment the following commands were used:\n",
    "\n",
    "`conda config --add channels plotly`\n",
    "`conda config --add channels conda-forge`"
   ],
   "metadata": {
    "collapsed": false
   }
  },
  {
   "cell_type": "markdown",
   "source": [
    "## Check channels\n",
    "\n",
    "Using the following command will check the channels and their priority\n",
    "\n",
    "`conda config --get channels`\n",
    "\n",
    "This is what it looked like in my terminal when creating this:\n",
    "\n",
    "```console\n",
    "(DS4ALL) arthur@arthur-Precision-7550:~/PycharmProjects/DS4ALL/Anaconda$ conda config --get channels\n",
    "--add channels 'defaults'   # lowest priority\n",
    "--add channels 'conda-forge'\n",
    "--add channels 'plotly'   # highest priority\n",
    "```\n",
    "\n"
   ],
   "metadata": {
    "collapsed": false
   }
  },
  {
   "cell_type": "code",
   "execution_count": null,
   "outputs": [],
   "source": [],
   "metadata": {
    "collapsed": false
   }
  }
 ],
 "metadata": {
  "kernelspec": {
   "display_name": "Python 3",
   "language": "python",
   "name": "python3"
  },
  "language_info": {
   "codemirror_mode": {
    "name": "ipython",
    "version": 2
   },
   "file_extension": ".py",
   "mimetype": "text/x-python",
   "name": "python",
   "nbconvert_exporter": "python",
   "pygments_lexer": "ipython2",
   "version": "2.7.6"
  }
 },
 "nbformat": 4,
 "nbformat_minor": 0
}
