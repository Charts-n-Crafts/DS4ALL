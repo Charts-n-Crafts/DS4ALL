{
 "cells": [
  {
   "cell_type": "markdown",
   "source": [
    "# Conda Workflow\n",
    "\n",
    "This notebook goes over the most common commands you will use when creating and using conda environments, all these commands will be used in your terminal (Linux and macOS) or Anaconda prompt (Windows)"
   ],
   "metadata": {
    "collapsed": false
   }
  },
  {
   "cell_type": "markdown",
   "source": [
    "## Check existing environments\n",
    "\n",
    "`conda env list`"
   ],
   "metadata": {
    "collapsed": false
   }
  },
  {
   "cell_type": "markdown",
   "source": [
    "## Creating an environment\n",
    "\n",
    "Create environments with the `conda create` command\n",
    "\n",
    "`conda create --name <env_name> python=<python_version> <package> <package <package>`"
   ],
   "metadata": {
    "collapsed": false
   }
  },
  {
   "cell_type": "markdown",
   "source": [
    "## Activating an environment\n",
    "\n",
    "`conda activate <env_name>`"
   ],
   "metadata": {
    "collapsed": false
   }
  },
  {
   "cell_type": "markdown",
   "source": [
    "## Check existing installed packages\n",
    "\n",
    "Once you have activated an environment you can check which packages have already been installed with the `conda list`command\n",
    "\n",
    "`conda list`"
   ],
   "metadata": {
    "collapsed": false
   }
  },
  {
   "cell_type": "markdown",
   "source": [
    "## Searching for packages\n",
    "\n",
    "Packages are automatically downloaded and updated from the [`default`](https://repo.anaconda.com/pkgs/) channel\n",
    "\n",
    "`conda search <package_name>`\n",
    "\n",
    "`conda search pandas`\n",
    "\n",
    "`conda search --channel <channel_name> <package_name>`\n",
    "\n",
    "Examples of packages used in this course:\n",
    "\n",
    "`conda search --channel conda-forge cufflinks-py`\n",
    "\n",
    "`conda search --channel pytorch pytorch`\n"
   ],
   "metadata": {
    "collapsed": false
   }
  },
  {
   "cell_type": "markdown",
   "source": [
    "## Installing packages\n",
    "\n",
    "`conda install <package_name>`\n",
    "\n",
    "`conda install --channel <channel_name> <package_name>`"
   ],
   "metadata": {
    "collapsed": false
   }
  },
  {
   "cell_type": "markdown",
   "source": [
    "## Updating an environment\n",
    "\n",
    "If dependencies are updated or removed from an environment during you project you can use the following command to update the environment file:\n",
    "\n",
    "`conda env update --file <file_name>.yml  --prune`"
   ],
   "metadata": {
    "collapsed": false
   }
  },
  {
   "cell_type": "markdown",
   "source": [
    "## Deactivating an environment\n",
    "\n",
    "`conda deactivate`"
   ],
   "metadata": {
    "collapsed": false
   }
  },
  {
   "cell_type": "code",
   "execution_count": null,
   "outputs": [],
   "source": [],
   "metadata": {
    "collapsed": false
   }
  }
 ],
 "metadata": {
  "kernelspec": {
   "display_name": "Python 3",
   "language": "python",
   "name": "python3"
  },
  "language_info": {
   "codemirror_mode": {
    "name": "ipython",
    "version": 2
   },
   "file_extension": ".py",
   "mimetype": "text/x-python",
   "name": "python",
   "nbconvert_exporter": "python",
   "pygments_lexer": "ipython2",
   "version": "2.7.6"
  }
 },
 "nbformat": 4,
 "nbformat_minor": 0
}
