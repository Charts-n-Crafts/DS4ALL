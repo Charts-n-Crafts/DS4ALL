{
 "cells": [
  {
   "cell_type": "markdown",
   "source": [
    "# Matplotlib\n",
    "\n",
    "Matplotlib is the core plotting library for Python, [pyplot](https://matplotlib.org/stable/tutorials/introductory/pyplot.html#:~:text=pyplot%20is%20a%20collection%20of,In%20matplotlib.) is similar to MatLab's graphical plotting and works well with Pandas and NumPy arrays\n",
    "\n",
    "It can seem extremely complicated at first, so it is worth having as many resources to hand such as [written tutorials](https://github.com/rougier/matplotlib-tutorial#d-plots), [video tutorials](https://www.youtube.com/watch?v=wB9C0Mz9gSo), [books](https://libsearch.ncl.ac.uk/primo-explore/search?query=any,contains,matplotlib&tab=default_tab&search_scope=NotPC&vid=NEWUI&lang=en_US&offset=0) and [cheatsheets](https://matplotlib.org/cheatsheets/)\n",
    "\n",
    "Matplotlib has a great [official website](https://matplotlib.org/) that's well documented with plenty of great plotting examples in the [gallery](https://matplotlib.org/stable/gallery/index.html)"
   ],
   "metadata": {
    "collapsed": false
   }
  },
  {
   "cell_type": "markdown",
   "source": [
    "## Installation\n",
    "\n",
    "Activate your conda environment with `conda activate 'env_name'`\n",
    "\n",
    "Install the Matplotlib library with\n",
    "\n",
    "`conda install matplotlib`\n",
    "\n",
    "If you're not using Anaconda, here's a link to [other installation methods](https://matplotlib.org/stable/users/installing/index.html)"
   ],
   "metadata": {
    "collapsed": false
   }
  },
  {
   "cell_type": "code",
   "execution_count": 1,
   "outputs": [],
   "source": [
    "import matplotlib # If this cell runs without error you're good to go with the Matplotlib"
   ],
   "metadata": {
    "collapsed": false
   }
  }
 ],
 "metadata": {
  "kernelspec": {
   "display_name": "Python 3",
   "language": "python",
   "name": "python3"
  },
  "language_info": {
   "codemirror_mode": {
    "name": "ipython",
    "version": 2
   },
   "file_extension": ".py",
   "mimetype": "text/x-python",
   "name": "python",
   "nbconvert_exporter": "python",
   "pygments_lexer": "ipython2",
   "version": "2.7.6"
  }
 },
 "nbformat": 4,
 "nbformat_minor": 0
}
